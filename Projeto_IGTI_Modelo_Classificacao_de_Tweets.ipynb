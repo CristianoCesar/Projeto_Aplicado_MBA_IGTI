{
  "nbformat": 4,
  "nbformat_minor": 0,
  "metadata": {
    "colab": {
      "name": "Projeto IGTI - Modelo.ipynb",
      "provenance": [],
      "collapsed_sections": []
    },
    "kernelspec": {
      "display_name": "Python 3",
      "name": "python3"
    },
    "language_info": {
      "name": "python"
    }
  },
  "cells": [
    {
      "cell_type": "markdown",
      "metadata": {
        "id": "rrVz-GCKBmRw"
      },
      "source": [
        "# **PROJETO APLICADO**\n",
        "\n"
      ]
    },
    {
      "cell_type": "markdown",
      "source": [
        "**MODELO EM CONSTRUÇÃO**\n",
        "\n",
        "-*FALTA TUNING*\n",
        "\n",
        "-*FALTA DETALHAR CADA ETAPA DO MODELO*"
      ],
      "metadata": {
        "id": "fCbQcESjk9U-"
      }
    },
    {
      "cell_type": "markdown",
      "metadata": {
        "id": "65iKcBIHBllv"
      },
      "source": [
        "### Descrição do Problema\n",
        "\n",
        "Este modelo consiste em aplicar técnicas de tratamento e PLN no pré processamento de Tweets relacionados ao mercado de ações brasileiro para sua posterior classificação através de um algortimo de classificação supervisionado.\n",
        "\n",
        "Este modelo abrange a seguintes fases:\n",
        "\n",
        "- Preparação dos dados\n",
        "- Análise Exploratória\n",
        "- Pré processamento\n",
        "- Classificação\n",
        "- Avaliação de Métricas\n",
        "- Sintonização de Hiper parâmetros\n",
        "- Exportação do modelo\n",
        "- Testes\n",
        "\n",
        "O arquivo pdf no diretório deste projeto ilustra de forma mais detalhada como foi as fases de criação e execução deste modelo"
      ]
    },
    {
      "cell_type": "markdown",
      "metadata": {
        "id": "fwb4Aab8a9Bq"
      },
      "source": [
        "Referencias:\n",
        "\n",
        "https://scikit-learn.org/stable/\n",
        "\n",
        "https://dadosaocubo.com/nlp-com-scikit-learn/"
      ]
    },
    {
      "cell_type": "code",
      "metadata": {
        "id": "YZ8ixDvhv8T3"
      },
      "source": [
        "#Variáveis Flags para setar trechos específicos do código que deve ou não serem executados\n",
        "_LIB_LOAD = True #habilita/desabilita a carga das bibliotecas\n",
        "_DATA_LOAD = True #habilita/desabilita a carga do dataset\n",
        "_DEPLOY = False #habilita/desabilita a exportação do resultado do modelo \n",
        "_LEAVE_ONE_OUT_TRAIN = False #habilita/desabilita o treino pela técnica leave one out\n",
        "_GRID_SEARCH_TRAIN = False #habilita/desabilita a sintonização pela técnica Grid Search\n",
        "_RANDOM_SEARCH_TRAIN = False #habilita/desabilita a sintonização pela técnica Random Search\n",
        "_NUMBER_OF_SAMPLES = 20000 #Define o número de amostras a serem carregadas do dataset"
      ],
      "execution_count": 2,
      "outputs": []
    },
    {
      "cell_type": "markdown",
      "metadata": {
        "id": "EaKKZCY3MtPG"
      },
      "source": [
        "##Preparação dos Dados"
      ]
    },
    {
      "cell_type": "markdown",
      "metadata": {
        "id": "hHqI1xAEV-xP"
      },
      "source": [
        "### Carga das bibliotecas e dos dados"
      ]
    },
    {
      "cell_type": "code",
      "metadata": {
        "colab": {
          "base_uri": "https://localhost:8080/"
        },
        "id": "VtwzKplY7-33",
        "outputId": "60fc1e63-7c8b-41f3-9979-66847f65d50b"
      },
      "source": [
        "pip install six"
      ],
      "execution_count": 3,
      "outputs": [
        {
          "output_type": "stream",
          "name": "stdout",
          "text": [
            "Requirement already satisfied: six in /usr/local/lib/python3.7/dist-packages (1.15.0)\n"
          ]
        }
      ]
    },
    {
      "cell_type": "code",
      "metadata": {
        "colab": {
          "base_uri": "https://localhost:8080/"
        },
        "id": "p3H8nQVxCE45",
        "outputId": "c6f1dfa2-20b6-4093-f00b-7718cd5bc20e"
      },
      "source": [
        "#importando as bibliotecas\n",
        "if _LIB_LOAD:\n",
        "  import numpy as np #biblioteca para utilizacao de vetores e matrizes\n",
        "  import pandas as pd #biblioteca para manipulação de dados\n",
        "  import matplotlib.pyplot as plt #biblioteca para criar gráfpip install scikit-multilearnicos \"comuns\" ao estilo Matlab\n",
        "  import seaborn as sns\n",
        "\n",
        "  import nltk\n",
        "  from nltk.stem.snowball import SnowballStemmer\n",
        "  from nltk.corpus import stopwords\n",
        "  nltk.download('stopwords')\n",
        "  nltk.download('punkt')\n",
        "  from sklearn.feature_extraction.text import CountVectorizer, TfidfTransformer\n",
        "  from imblearn.over_sampling import SMOTE\n",
        "\n",
        "  from sklearn.svm import SVC\n",
        "  from sklearn.svm import LinearSVC\n",
        "  from sklearn.naive_bayes import MultinomialNB\n",
        "  from sklearn.neighbors import KNeighborsClassifier\n",
        "  from sklearn.ensemble import RandomForestClassifier\n",
        "  from sklearn.tree import DecisionTreeClassifier\n",
        "  from sklearn.linear_model import LogisticRegression\n",
        "  from sklearn.linear_model import SGDClassifier\n",
        "\n",
        "  from sklearn import metrics\n",
        "  from sklearn.model_selection import train_test_split\n",
        "  from sklearn.model_selection import KFold\n",
        "  from sklearn.model_selection import cross_val_score\n",
        "  from sklearn.model_selection import StratifiedKFold\n",
        "  from sklearn.model_selection import LeaveOneOut\n",
        "\n",
        "  from sklearn.model_selection import GridSearchCV\n",
        "  from sklearn.metrics import f1_score, make_scorer\n",
        "  from sklearn.model_selection import RandomizedSearchCV\n",
        "  from scipy.stats import uniform\n",
        "\n",
        "  from sklearn.metrics import confusion_matrix\n",
        "\n",
        "  import pickle as pkl"
      ],
      "execution_count": 4,
      "outputs": [
        {
          "output_type": "stream",
          "name": "stdout",
          "text": [
            "[nltk_data] Downloading package stopwords to /root/nltk_data...\n",
            "[nltk_data]   Unzipping corpora/stopwords.zip.\n",
            "[nltk_data] Downloading package punkt to /root/nltk_data...\n",
            "[nltk_data]   Unzipping tokenizers/punkt.zip.\n"
          ]
        }
      ]
    },
    {
      "cell_type": "code",
      "metadata": {
        "colab": {
          "base_uri": "https://localhost:8080/"
        },
        "id": "f3UBomgYNb-N",
        "outputId": "e437d424-3e06-4254-e2ec-02e37860d2dc"
      },
      "source": [
        "#liberando acesso do colab aos arquivos no drive\n",
        "if _DATA_LOAD:\n",
        "  from google.colab import drive\n",
        "  drive.mount('/content/gdrive')"
      ],
      "execution_count": 5,
      "outputs": [
        {
          "output_type": "stream",
          "name": "stdout",
          "text": [
            "Mounted at /content/gdrive\n"
          ]
        }
      ]
    },
    {
      "cell_type": "code",
      "metadata": {
        "id": "R8n1SLwfNdyi"
      },
      "source": [
        "#carregando os datasets\n",
        "if _DATA_LOAD:\n",
        "  df1 = pd.read_csv('/content/gdrive/My Drive/Colab Notebooks/Projeto Final IGTI/data/NoThemeTweets.csv').sample(_NUMBER_OF_SAMPLES, random_state=42)\n",
        "  df2 = pd.read_csv('/content/gdrive/My Drive/Colab Notebooks/Projeto Final IGTI/data/tweets_stocks.csv')\n",
        "  df3 = pd.read_csv('/content/gdrive/My Drive/Colab Notebooks/Projeto Final IGTI/data/tweets_ibovespa.csv')"
      ],
      "execution_count": 6,
      "outputs": []
    },
    {
      "cell_type": "markdown",
      "metadata": {
        "id": "7AI7fAQtEs-6"
      },
      "source": [
        "Fonte: https://www.kaggle.com/augustop/portuguese-tweets-for-sentiment-analysis?select=NoThemeTweets.csv\n",
        "\n",
        "Fonte: https://www.kaggle.com/fernandojvdasilva/stock-tweets-ptbr-emotions?select=tweets_stocks.csv\n"
      ]
    },
    {
      "cell_type": "markdown",
      "metadata": {
        "id": "cO8dLHRiOMJx"
      },
      "source": [
        "### Análise Exploratória "
      ]
    },
    {
      "cell_type": "code",
      "metadata": {
        "colab": {
          "base_uri": "https://localhost:8080/",
          "height": 206
        },
        "id": "XfyLCjJDIovz",
        "outputId": "6ad1a456-ebbc-49d0-a146-fc59a1d115ae"
      },
      "source": [
        "# Amostra do dataframe\n",
        "df1.head()"
      ],
      "execution_count": 7,
      "outputs": [
        {
          "output_type": "execute_result",
          "data": {
            "text/html": [
              "\n",
              "  <div id=\"df-d59ab5ca-23ff-4a67-94fc-6610785f8221\">\n",
              "    <div class=\"colab-df-container\">\n",
              "      <div>\n",
              "<style scoped>\n",
              "    .dataframe tbody tr th:only-of-type {\n",
              "        vertical-align: middle;\n",
              "    }\n",
              "\n",
              "    .dataframe tbody tr th {\n",
              "        vertical-align: top;\n",
              "    }\n",
              "\n",
              "    .dataframe thead th {\n",
              "        text-align: right;\n",
              "    }\n",
              "</style>\n",
              "<table border=\"1\" class=\"dataframe\">\n",
              "  <thead>\n",
              "    <tr style=\"text-align: right;\">\n",
              "      <th></th>\n",
              "      <th>id</th>\n",
              "      <th>tweet_text</th>\n",
              "      <th>tweet_date</th>\n",
              "      <th>sentiment</th>\n",
              "      <th>query_used</th>\n",
              "    </tr>\n",
              "  </thead>\n",
              "  <tbody>\n",
              "    <tr>\n",
              "      <th>193377</th>\n",
              "      <td>1032462800571039744</td>\n",
              "      <td>eu to muito gordo :(</td>\n",
              "      <td>Thu Aug 23 03:01:28 +0000 2018</td>\n",
              "      <td>Negativo</td>\n",
              "      <td>:(</td>\n",
              "    </tr>\n",
              "    <tr>\n",
              "      <th>602080</th>\n",
              "      <td>1043227527479787522</td>\n",
              "      <td>@nelsonfsilva8 actually same, continuo a mesma...</td>\n",
              "      <td>Fri Sep 21 19:56:39 +0000 2018</td>\n",
              "      <td>Positivo</td>\n",
              "      <td>:)</td>\n",
              "    </tr>\n",
              "    <tr>\n",
              "      <th>468421</th>\n",
              "      <td>1040799071055872000</td>\n",
              "      <td>meu vizinho pagou 600 reais num doguinho de ra...</td>\n",
              "      <td>Sat Sep 15 03:06:50 +0000 2018</td>\n",
              "      <td>Negativo</td>\n",
              "      <td>:(</td>\n",
              "    </tr>\n",
              "    <tr>\n",
              "      <th>448164</th>\n",
              "      <td>1040015296675950592</td>\n",
              "      <td>falar sobre política separa as pessoas :( fiqu...</td>\n",
              "      <td>Wed Sep 12 23:12:23 +0000 2018</td>\n",
              "      <td>Negativo</td>\n",
              "      <td>:(</td>\n",
              "    </tr>\n",
              "    <tr>\n",
              "      <th>190317</th>\n",
              "      <td>1032351066732539911</td>\n",
              "      <td>Jogo grátis STEAM: For Honor Está grátis por t...</td>\n",
              "      <td>Wed Aug 22 19:37:29 +0000 2018</td>\n",
              "      <td>Positivo</td>\n",
              "      <td>:)</td>\n",
              "    </tr>\n",
              "  </tbody>\n",
              "</table>\n",
              "</div>\n",
              "      <button class=\"colab-df-convert\" onclick=\"convertToInteractive('df-d59ab5ca-23ff-4a67-94fc-6610785f8221')\"\n",
              "              title=\"Convert this dataframe to an interactive table.\"\n",
              "              style=\"display:none;\">\n",
              "        \n",
              "  <svg xmlns=\"http://www.w3.org/2000/svg\" height=\"24px\"viewBox=\"0 0 24 24\"\n",
              "       width=\"24px\">\n",
              "    <path d=\"M0 0h24v24H0V0z\" fill=\"none\"/>\n",
              "    <path d=\"M18.56 5.44l.94 2.06.94-2.06 2.06-.94-2.06-.94-.94-2.06-.94 2.06-2.06.94zm-11 1L8.5 8.5l.94-2.06 2.06-.94-2.06-.94L8.5 2.5l-.94 2.06-2.06.94zm10 10l.94 2.06.94-2.06 2.06-.94-2.06-.94-.94-2.06-.94 2.06-2.06.94z\"/><path d=\"M17.41 7.96l-1.37-1.37c-.4-.4-.92-.59-1.43-.59-.52 0-1.04.2-1.43.59L10.3 9.45l-7.72 7.72c-.78.78-.78 2.05 0 2.83L4 21.41c.39.39.9.59 1.41.59.51 0 1.02-.2 1.41-.59l7.78-7.78 2.81-2.81c.8-.78.8-2.07 0-2.86zM5.41 20L4 18.59l7.72-7.72 1.47 1.35L5.41 20z\"/>\n",
              "  </svg>\n",
              "      </button>\n",
              "      \n",
              "  <style>\n",
              "    .colab-df-container {\n",
              "      display:flex;\n",
              "      flex-wrap:wrap;\n",
              "      gap: 12px;\n",
              "    }\n",
              "\n",
              "    .colab-df-convert {\n",
              "      background-color: #E8F0FE;\n",
              "      border: none;\n",
              "      border-radius: 50%;\n",
              "      cursor: pointer;\n",
              "      display: none;\n",
              "      fill: #1967D2;\n",
              "      height: 32px;\n",
              "      padding: 0 0 0 0;\n",
              "      width: 32px;\n",
              "    }\n",
              "\n",
              "    .colab-df-convert:hover {\n",
              "      background-color: #E2EBFA;\n",
              "      box-shadow: 0px 1px 2px rgba(60, 64, 67, 0.3), 0px 1px 3px 1px rgba(60, 64, 67, 0.15);\n",
              "      fill: #174EA6;\n",
              "    }\n",
              "\n",
              "    [theme=dark] .colab-df-convert {\n",
              "      background-color: #3B4455;\n",
              "      fill: #D2E3FC;\n",
              "    }\n",
              "\n",
              "    [theme=dark] .colab-df-convert:hover {\n",
              "      background-color: #434B5C;\n",
              "      box-shadow: 0px 1px 3px 1px rgba(0, 0, 0, 0.15);\n",
              "      filter: drop-shadow(0px 1px 2px rgba(0, 0, 0, 0.3));\n",
              "      fill: #FFFFFF;\n",
              "    }\n",
              "  </style>\n",
              "\n",
              "      <script>\n",
              "        const buttonEl =\n",
              "          document.querySelector('#df-d59ab5ca-23ff-4a67-94fc-6610785f8221 button.colab-df-convert');\n",
              "        buttonEl.style.display =\n",
              "          google.colab.kernel.accessAllowed ? 'block' : 'none';\n",
              "\n",
              "        async function convertToInteractive(key) {\n",
              "          const element = document.querySelector('#df-d59ab5ca-23ff-4a67-94fc-6610785f8221');\n",
              "          const dataTable =\n",
              "            await google.colab.kernel.invokeFunction('convertToInteractive',\n",
              "                                                     [key], {});\n",
              "          if (!dataTable) return;\n",
              "\n",
              "          const docLinkHtml = 'Like what you see? Visit the ' +\n",
              "            '<a target=\"_blank\" href=https://colab.research.google.com/notebooks/data_table.ipynb>data table notebook</a>'\n",
              "            + ' to learn more about interactive tables.';\n",
              "          element.innerHTML = '';\n",
              "          dataTable['output_type'] = 'display_data';\n",
              "          await google.colab.output.renderOutput(dataTable, element);\n",
              "          const docLink = document.createElement('div');\n",
              "          docLink.innerHTML = docLinkHtml;\n",
              "          element.appendChild(docLink);\n",
              "        }\n",
              "      </script>\n",
              "    </div>\n",
              "  </div>\n",
              "  "
            ],
            "text/plain": [
              "                         id  ... query_used\n",
              "193377  1032462800571039744  ...         :(\n",
              "602080  1043227527479787522  ...         :)\n",
              "468421  1040799071055872000  ...         :(\n",
              "448164  1040015296675950592  ...         :(\n",
              "190317  1032351066732539911  ...         :)\n",
              "\n",
              "[5 rows x 5 columns]"
            ]
          },
          "metadata": {},
          "execution_count": 7
        }
      ]
    },
    {
      "cell_type": "code",
      "metadata": {
        "id": "pZMxPv6HUGTu",
        "colab": {
          "base_uri": "https://localhost:8080/"
        },
        "outputId": "e7eb177c-868a-410c-8080-bd8a5d09662e"
      },
      "source": [
        "# Dimensões (linhas x colunas) do dataframe\n",
        "df1.shape"
      ],
      "execution_count": 8,
      "outputs": [
        {
          "output_type": "execute_result",
          "data": {
            "text/plain": [
              "(20000, 5)"
            ]
          },
          "metadata": {},
          "execution_count": 8
        }
      ]
    },
    {
      "cell_type": "code",
      "metadata": {
        "id": "uJxp4AX8UOa5",
        "colab": {
          "base_uri": "https://localhost:8080/"
        },
        "outputId": "526a1c8b-cc27-4f73-c254-00cd5e6277ef"
      },
      "source": [
        "# Informações das variáveis do dataframe (nomes dos campos, quantidades nulas e não nulas, tipos de dados)\n",
        "df1.info()"
      ],
      "execution_count": 9,
      "outputs": [
        {
          "output_type": "stream",
          "name": "stdout",
          "text": [
            "<class 'pandas.core.frame.DataFrame'>\n",
            "Int64Index: 20000 entries, 193377 to 460693\n",
            "Data columns (total 5 columns):\n",
            " #   Column      Non-Null Count  Dtype \n",
            "---  ------      --------------  ----- \n",
            " 0   id          20000 non-null  int64 \n",
            " 1   tweet_text  20000 non-null  object\n",
            " 2   tweet_date  20000 non-null  object\n",
            " 3   sentiment   20000 non-null  object\n",
            " 4   query_used  20000 non-null  object\n",
            "dtypes: int64(1), object(4)\n",
            "memory usage: 937.5+ KB\n"
          ]
        }
      ]
    },
    {
      "cell_type": "code",
      "metadata": {
        "id": "Pvqwo2D2Ry-4",
        "colab": {
          "base_uri": "https://localhost:8080/"
        },
        "outputId": "3ffb38d3-ace1-4499-c47f-456b1e341f94"
      },
      "source": [
        "# Numero de instâncias classificadas de cada tipo\n",
        "df1['sentiment'].value_counts()"
      ],
      "execution_count": 10,
      "outputs": [
        {
          "output_type": "execute_result",
          "data": {
            "text/plain": [
              "Negativo    13311\n",
              "Positivo     6689\n",
              "Name: sentiment, dtype: int64"
            ]
          },
          "metadata": {},
          "execution_count": 10
        }
      ]
    },
    {
      "cell_type": "code",
      "metadata": {
        "id": "9jsqNQrtVI24",
        "colab": {
          "base_uri": "https://localhost:8080/",
          "height": 394
        },
        "outputId": "f572706e-1578-4a2b-a84b-055310a3dc85"
      },
      "source": [
        "# Estatísticas básicas das variáveis numéricas do dataframe\n",
        "df1.describe(include=\"all\")"
      ],
      "execution_count": 11,
      "outputs": [
        {
          "output_type": "execute_result",
          "data": {
            "text/html": [
              "\n",
              "  <div id=\"df-e9a5ec29-da0e-432b-a47e-eb64398b50bf\">\n",
              "    <div class=\"colab-df-container\">\n",
              "      <div>\n",
              "<style scoped>\n",
              "    .dataframe tbody tr th:only-of-type {\n",
              "        vertical-align: middle;\n",
              "    }\n",
              "\n",
              "    .dataframe tbody tr th {\n",
              "        vertical-align: top;\n",
              "    }\n",
              "\n",
              "    .dataframe thead th {\n",
              "        text-align: right;\n",
              "    }\n",
              "</style>\n",
              "<table border=\"1\" class=\"dataframe\">\n",
              "  <thead>\n",
              "    <tr style=\"text-align: right;\">\n",
              "      <th></th>\n",
              "      <th>id</th>\n",
              "      <th>tweet_text</th>\n",
              "      <th>tweet_date</th>\n",
              "      <th>sentiment</th>\n",
              "      <th>query_used</th>\n",
              "    </tr>\n",
              "  </thead>\n",
              "  <tbody>\n",
              "    <tr>\n",
              "      <th>count</th>\n",
              "      <td>2.000000e+04</td>\n",
              "      <td>20000</td>\n",
              "      <td>20000</td>\n",
              "      <td>20000</td>\n",
              "      <td>20000</td>\n",
              "    </tr>\n",
              "    <tr>\n",
              "      <th>unique</th>\n",
              "      <td>NaN</td>\n",
              "      <td>19963</td>\n",
              "      <td>19871</td>\n",
              "      <td>2</td>\n",
              "      <td>2</td>\n",
              "    </tr>\n",
              "    <tr>\n",
              "      <th>top</th>\n",
              "      <td>NaN</td>\n",
              "      <td>Bom dia :)</td>\n",
              "      <td>Fri Sep 21 21:31:41 +0000 2018</td>\n",
              "      <td>Negativo</td>\n",
              "      <td>:(</td>\n",
              "    </tr>\n",
              "    <tr>\n",
              "      <th>freq</th>\n",
              "      <td>NaN</td>\n",
              "      <td>10</td>\n",
              "      <td>2</td>\n",
              "      <td>13311</td>\n",
              "      <td>13311</td>\n",
              "    </tr>\n",
              "    <tr>\n",
              "      <th>mean</th>\n",
              "      <td>1.038568e+18</td>\n",
              "      <td>NaN</td>\n",
              "      <td>NaN</td>\n",
              "      <td>NaN</td>\n",
              "      <td>NaN</td>\n",
              "    </tr>\n",
              "    <tr>\n",
              "      <th>std</th>\n",
              "      <td>5.540530e+15</td>\n",
              "      <td>NaN</td>\n",
              "      <td>NaN</td>\n",
              "      <td>NaN</td>\n",
              "      <td>NaN</td>\n",
              "    </tr>\n",
              "    <tr>\n",
              "      <th>min</th>\n",
              "      <td>1.029537e+18</td>\n",
              "      <td>NaN</td>\n",
              "      <td>NaN</td>\n",
              "      <td>NaN</td>\n",
              "      <td>NaN</td>\n",
              "    </tr>\n",
              "    <tr>\n",
              "      <th>25%</th>\n",
              "      <td>1.032450e+18</td>\n",
              "      <td>NaN</td>\n",
              "      <td>NaN</td>\n",
              "      <td>NaN</td>\n",
              "      <td>NaN</td>\n",
              "    </tr>\n",
              "    <tr>\n",
              "      <th>50%</th>\n",
              "      <td>1.039303e+18</td>\n",
              "      <td>NaN</td>\n",
              "      <td>NaN</td>\n",
              "      <td>NaN</td>\n",
              "      <td>NaN</td>\n",
              "    </tr>\n",
              "    <tr>\n",
              "      <th>75%</th>\n",
              "      <td>1.042970e+18</td>\n",
              "      <td>NaN</td>\n",
              "      <td>NaN</td>\n",
              "      <td>NaN</td>\n",
              "      <td>NaN</td>\n",
              "    </tr>\n",
              "    <tr>\n",
              "      <th>max</th>\n",
              "      <td>1.050782e+18</td>\n",
              "      <td>NaN</td>\n",
              "      <td>NaN</td>\n",
              "      <td>NaN</td>\n",
              "      <td>NaN</td>\n",
              "    </tr>\n",
              "  </tbody>\n",
              "</table>\n",
              "</div>\n",
              "      <button class=\"colab-df-convert\" onclick=\"convertToInteractive('df-e9a5ec29-da0e-432b-a47e-eb64398b50bf')\"\n",
              "              title=\"Convert this dataframe to an interactive table.\"\n",
              "              style=\"display:none;\">\n",
              "        \n",
              "  <svg xmlns=\"http://www.w3.org/2000/svg\" height=\"24px\"viewBox=\"0 0 24 24\"\n",
              "       width=\"24px\">\n",
              "    <path d=\"M0 0h24v24H0V0z\" fill=\"none\"/>\n",
              "    <path d=\"M18.56 5.44l.94 2.06.94-2.06 2.06-.94-2.06-.94-.94-2.06-.94 2.06-2.06.94zm-11 1L8.5 8.5l.94-2.06 2.06-.94-2.06-.94L8.5 2.5l-.94 2.06-2.06.94zm10 10l.94 2.06.94-2.06 2.06-.94-2.06-.94-.94-2.06-.94 2.06-2.06.94z\"/><path d=\"M17.41 7.96l-1.37-1.37c-.4-.4-.92-.59-1.43-.59-.52 0-1.04.2-1.43.59L10.3 9.45l-7.72 7.72c-.78.78-.78 2.05 0 2.83L4 21.41c.39.39.9.59 1.41.59.51 0 1.02-.2 1.41-.59l7.78-7.78 2.81-2.81c.8-.78.8-2.07 0-2.86zM5.41 20L4 18.59l7.72-7.72 1.47 1.35L5.41 20z\"/>\n",
              "  </svg>\n",
              "      </button>\n",
              "      \n",
              "  <style>\n",
              "    .colab-df-container {\n",
              "      display:flex;\n",
              "      flex-wrap:wrap;\n",
              "      gap: 12px;\n",
              "    }\n",
              "\n",
              "    .colab-df-convert {\n",
              "      background-color: #E8F0FE;\n",
              "      border: none;\n",
              "      border-radius: 50%;\n",
              "      cursor: pointer;\n",
              "      display: none;\n",
              "      fill: #1967D2;\n",
              "      height: 32px;\n",
              "      padding: 0 0 0 0;\n",
              "      width: 32px;\n",
              "    }\n",
              "\n",
              "    .colab-df-convert:hover {\n",
              "      background-color: #E2EBFA;\n",
              "      box-shadow: 0px 1px 2px rgba(60, 64, 67, 0.3), 0px 1px 3px 1px rgba(60, 64, 67, 0.15);\n",
              "      fill: #174EA6;\n",
              "    }\n",
              "\n",
              "    [theme=dark] .colab-df-convert {\n",
              "      background-color: #3B4455;\n",
              "      fill: #D2E3FC;\n",
              "    }\n",
              "\n",
              "    [theme=dark] .colab-df-convert:hover {\n",
              "      background-color: #434B5C;\n",
              "      box-shadow: 0px 1px 3px 1px rgba(0, 0, 0, 0.15);\n",
              "      filter: drop-shadow(0px 1px 2px rgba(0, 0, 0, 0.3));\n",
              "      fill: #FFFFFF;\n",
              "    }\n",
              "  </style>\n",
              "\n",
              "      <script>\n",
              "        const buttonEl =\n",
              "          document.querySelector('#df-e9a5ec29-da0e-432b-a47e-eb64398b50bf button.colab-df-convert');\n",
              "        buttonEl.style.display =\n",
              "          google.colab.kernel.accessAllowed ? 'block' : 'none';\n",
              "\n",
              "        async function convertToInteractive(key) {\n",
              "          const element = document.querySelector('#df-e9a5ec29-da0e-432b-a47e-eb64398b50bf');\n",
              "          const dataTable =\n",
              "            await google.colab.kernel.invokeFunction('convertToInteractive',\n",
              "                                                     [key], {});\n",
              "          if (!dataTable) return;\n",
              "\n",
              "          const docLinkHtml = 'Like what you see? Visit the ' +\n",
              "            '<a target=\"_blank\" href=https://colab.research.google.com/notebooks/data_table.ipynb>data table notebook</a>'\n",
              "            + ' to learn more about interactive tables.';\n",
              "          element.innerHTML = '';\n",
              "          dataTable['output_type'] = 'display_data';\n",
              "          await google.colab.output.renderOutput(dataTable, element);\n",
              "          const docLink = document.createElement('div');\n",
              "          docLink.innerHTML = docLinkHtml;\n",
              "          element.appendChild(docLink);\n",
              "        }\n",
              "      </script>\n",
              "    </div>\n",
              "  </div>\n",
              "  "
            ],
            "text/plain": [
              "                  id  tweet_text  ... sentiment query_used\n",
              "count   2.000000e+04       20000  ...     20000      20000\n",
              "unique           NaN       19963  ...         2          2\n",
              "top              NaN  Bom dia :)  ...  Negativo         :(\n",
              "freq             NaN          10  ...     13311      13311\n",
              "mean    1.038568e+18         NaN  ...       NaN        NaN\n",
              "std     5.540530e+15         NaN  ...       NaN        NaN\n",
              "min     1.029537e+18         NaN  ...       NaN        NaN\n",
              "25%     1.032450e+18         NaN  ...       NaN        NaN\n",
              "50%     1.039303e+18         NaN  ...       NaN        NaN\n",
              "75%     1.042970e+18         NaN  ...       NaN        NaN\n",
              "max     1.050782e+18         NaN  ...       NaN        NaN\n",
              "\n",
              "[11 rows x 5 columns]"
            ]
          },
          "metadata": {},
          "execution_count": 11
        }
      ]
    },
    {
      "cell_type": "code",
      "metadata": {
        "id": "fPTroB3-VhDA",
        "colab": {
          "base_uri": "https://localhost:8080/"
        },
        "outputId": "3b3585b0-5c04-4ae7-8485-d756548c62e5"
      },
      "source": [
        "#somatório de dados faltantes por coluna\n",
        "df1.isna().sum()"
      ],
      "execution_count": 12,
      "outputs": [
        {
          "output_type": "execute_result",
          "data": {
            "text/plain": [
              "id            0\n",
              "tweet_text    0\n",
              "tweet_date    0\n",
              "sentiment     0\n",
              "query_used    0\n",
              "dtype: int64"
            ]
          },
          "metadata": {},
          "execution_count": 12
        }
      ]
    },
    {
      "cell_type": "code",
      "metadata": {
        "id": "a5Y0PFzVSixp",
        "colab": {
          "base_uri": "https://localhost:8080/"
        },
        "outputId": "7717db98-ba72-45fc-b079-2c40b20748af"
      },
      "source": [
        "df1.isna().sum().any()"
      ],
      "execution_count": 13,
      "outputs": [
        {
          "output_type": "execute_result",
          "data": {
            "text/plain": [
              "False"
            ]
          },
          "metadata": {},
          "execution_count": 13
        }
      ]
    },
    {
      "cell_type": "code",
      "metadata": {
        "id": "8agoYSDs7i-P",
        "colab": {
          "base_uri": "https://localhost:8080/"
        },
        "outputId": "faeaa17b-7f54-487d-9e1a-bf15ed485f2a"
      },
      "source": [
        "df1.groupby([\"sentiment\", \"query_used\"]).size()"
      ],
      "execution_count": 14,
      "outputs": [
        {
          "output_type": "execute_result",
          "data": {
            "text/plain": [
              "sentiment  query_used\n",
              "Negativo   :(            13311\n",
              "Positivo   :)             6689\n",
              "dtype: int64"
            ]
          },
          "metadata": {},
          "execution_count": 14
        }
      ]
    },
    {
      "cell_type": "markdown",
      "metadata": {
        "id": "zW7C99SZOM30"
      },
      "source": [
        "### Pré-processamento dos dados"
      ]
    },
    {
      "cell_type": "code",
      "metadata": {
        "id": "As6-5v4AApCA"
      },
      "source": [
        "#duplicando nova coluna com o texto dos tweets que serão tratados\n",
        "df1['new_text'] = df1['tweet_text'].copy()\n",
        "#check\n",
        "#df1.head()"
      ],
      "execution_count": 15,
      "outputs": []
    },
    {
      "cell_type": "markdown",
      "metadata": {
        "id": "lgEv-vanBci-"
      },
      "source": [
        "Remover Pontuação"
      ]
    },
    {
      "cell_type": "code",
      "metadata": {
        "id": "yrQgBBKUBcDB"
      },
      "source": [
        "df1['new_text'] = df1['new_text'].str.replace('[,.:;!?]+', ' ', regex=True).copy()"
      ],
      "execution_count": 16,
      "outputs": []
    },
    {
      "cell_type": "markdown",
      "metadata": {
        "id": "GHtJStYuCqT7"
      },
      "source": [
        "Remover Caracteres especiais"
      ]
    },
    {
      "cell_type": "code",
      "metadata": {
        "id": "nM7HVOVLCdwR"
      },
      "source": [
        "df1['new_text'] = df1['new_text'].str.replace ('[/<>()|\\+\\-\\$%&#@_\\'\\\"]+', ' ', regex=True).copy()"
      ],
      "execution_count": 17,
      "outputs": []
    },
    {
      "cell_type": "markdown",
      "metadata": {
        "id": "AhkZEdr1C1Eq"
      },
      "source": [
        "Remover Números"
      ]
    },
    {
      "cell_type": "code",
      "metadata": {
        "id": "A-KMctvaC2mM"
      },
      "source": [
        "df1['new_text'] = df1['new_text'].str.replace('[0-9]+', '', regex=True).copy()"
      ],
      "execution_count": 18,
      "outputs": []
    },
    {
      "cell_type": "markdown",
      "metadata": {
        "id": "DKUHdcKDy7Wp"
      },
      "source": [
        "Stemmer"
      ]
    },
    {
      "cell_type": "code",
      "metadata": {
        "id": "-ZT25bx2SyrB"
      },
      "source": [
        "# reduz cada palavra ao seu radical\n",
        "stemmer = SnowballStemmer(\"portuguese\")\n",
        "#df1['new_text'] = df1['new_text'].apply(lambda x: [stemmer.stem(y) for y in x]).copy()\n",
        "\n",
        "def stem_sentences(sentence):\n",
        "    tokens = sentence.split()\n",
        "    stemmed_tokens = [stemmer.stem(token) for token in tokens]\n",
        "    return ' '.join(stemmed_tokens)"
      ],
      "execution_count": 19,
      "outputs": []
    },
    {
      "cell_type": "code",
      "metadata": {
        "id": "6mODd5XZLBfT"
      },
      "source": [
        "df1['new_text'] = df1['new_text'].apply(stem_sentences)"
      ],
      "execution_count": 20,
      "outputs": []
    },
    {
      "cell_type": "code",
      "metadata": {
        "id": "md-sn2R48KHg"
      },
      "source": [
        "df1['new_text'] = df1['new_text'].astype(str)\n",
        "df1['new_text'] = df1['new_text'].str.lower()"
      ],
      "execution_count": 21,
      "outputs": []
    },
    {
      "cell_type": "markdown",
      "metadata": {
        "id": "_kEgYfXbDLSS"
      },
      "source": [
        "Stop Words"
      ]
    },
    {
      "cell_type": "code",
      "metadata": {
        "id": "seJuRHX7DSyB"
      },
      "source": [
        "#stop words são palavras que não agregam valor ao sentido da frase\n",
        "# Lista com stop words da biblioteca NLTK\n",
        "stop_words = stopwords.words('portuguese')"
      ],
      "execution_count": 22,
      "outputs": []
    },
    {
      "cell_type": "markdown",
      "metadata": {
        "id": "vOE7qo0kOYVD"
      },
      "source": [
        "### Normalização dos dados"
      ]
    },
    {
      "cell_type": "markdown",
      "metadata": {
        "id": "xdFMGvsIAtW8"
      },
      "source": [
        "Mapeando a variável Target"
      ]
    },
    {
      "cell_type": "code",
      "metadata": {
        "id": "IYUXkuSF6Cab"
      },
      "source": [
        "#criando um dicionario de dados para o mapeamento\n",
        "name_to_class = {\n",
        "    'Negativo': 0,\n",
        "    'Positivo': 1\n",
        "}\n",
        "#substituindo os valores categóricos pelo mapeamento\n",
        "df1['sentiment'] = df1['sentiment'].map(name_to_class)\n",
        "\n",
        "#check\n",
        "#df1['sentiment'].value_counts()"
      ],
      "execution_count": 23,
      "outputs": []
    },
    {
      "cell_type": "markdown",
      "metadata": {
        "id": "6fpaVzwLGnbF"
      },
      "source": [
        "Tokenização através do CountVectorizer"
      ]
    },
    {
      "cell_type": "code",
      "metadata": {
        "id": "mL6sX_lrGoqi"
      },
      "source": [
        "# Criação da função CountVectorizer\n",
        "#Instancia o objeto que faz a vetorização dos dados de texto\n",
        "\n",
        "#cvt = CountVectorizer(strip_accents='ascii', lowercase=True, ngram_range=(1, 3), stop_words=stop_words)\n",
        "\n",
        "#from nltk.tokenize import TweetTokenizer\n",
        "#tweet_tokenizer = TweetTokenizer()\n",
        "#cvt = CountVectorizer(strip_accents='ascii', lowercase=True, ngram_range=(1, 3), stop_words=stop_words, analyzer=\"word\", tokenizer=tweet_tokenizer.tokenize)\n",
        "\n",
        "from nltk.tokenize import word_tokenize\n",
        "\n",
        "cvt = CountVectorizer(strip_accents='ascii', lowercase=True, ngram_range=(1, 3), stop_words=stop_words, analyzer=\"word\", tokenizer=word_tokenize)"
      ],
      "execution_count": 24,
      "outputs": []
    },
    {
      "cell_type": "code",
      "metadata": {
        "id": "G_4UnDqaG1EF",
        "colab": {
          "base_uri": "https://localhost:8080/"
        },
        "outputId": "2097d84c-41eb-44ce-a733-a7c439673fb5"
      },
      "source": [
        "X_cvt = cvt.fit_transform(df1['new_text'])"
      ],
      "execution_count": 25,
      "outputs": [
        {
          "output_type": "stream",
          "name": "stderr",
          "text": [
            "/usr/local/lib/python3.7/dist-packages/sklearn/feature_extraction/text.py:401: UserWarning: Your stop_words may be inconsistent with your preprocessing. Tokenizing the stop words generated tokens ['ate', 'eramos', 'estao', 'estavamos', 'estiveramos', 'estivessemos', 'foramos', 'fossemos', 'ha', 'hao', 'houveramos', 'houverao', 'houveriamos', 'houvessemos', 'ja', 'nao', 'sao', 'sera', 'serao', 'seriamos', 'so', 'tambem', 'tera', 'terao', 'teriamos', 'tinhamos', 'tiveramos', 'tivessemos', 'voce', 'voces'] not in stop_words.\n",
            "  % sorted(inconsistent)\n"
          ]
        }
      ]
    },
    {
      "cell_type": "code",
      "metadata": {
        "id": "9GfEGRhZxAMk"
      },
      "source": [
        "#print(cvt.get_feature_names())"
      ],
      "execution_count": null,
      "outputs": []
    },
    {
      "cell_type": "code",
      "metadata": {
        "id": "LF5TZyOyG5TG"
      },
      "source": [
        "# Criação da função TfidfTransformer\n",
        "tfi = TfidfTransformer(use_idf=True)\n",
        "X_tfi = tfi.fit_transform(X_cvt)\n",
        "#X_tfi = tfi.fit(X_cvt)"
      ],
      "execution_count": 26,
      "outputs": []
    },
    {
      "cell_type": "markdown",
      "metadata": {
        "id": "h5KLd2RqwH6g"
      },
      "source": [
        "\n",
        "Balanceamento dos dados"
      ]
    },
    {
      "cell_type": "code",
      "metadata": {
        "id": "l6-bRBDywKFG"
      },
      "source": [
        "y = df1.loc[:,['sentiment']].values"
      ],
      "execution_count": 27,
      "outputs": []
    },
    {
      "cell_type": "code",
      "metadata": {
        "id": "YPop0TjoyeXi"
      },
      "source": [
        "sm = SMOTE(random_state=42)\n",
        "X_res, y_res = sm.fit_resample(X_tfi,y)"
      ],
      "execution_count": 28,
      "outputs": []
    },
    {
      "cell_type": "code",
      "metadata": {
        "id": "Rqmqn8SKeihI",
        "colab": {
          "base_uri": "https://localhost:8080/"
        },
        "outputId": "dac3dcc6-514a-4657-a63c-cf629ee77cc3"
      },
      "source": [
        "np.bincount(y_res)"
      ],
      "execution_count": null,
      "outputs": [
        {
          "output_type": "execute_result",
          "data": {
            "text/plain": [
              "array([13311, 13311])"
            ]
          },
          "metadata": {},
          "execution_count": 21
        }
      ]
    },
    {
      "cell_type": "markdown",
      "metadata": {
        "id": "IJ4lobA1I0Rl"
      },
      "source": [
        "Dados"
      ]
    },
    {
      "cell_type": "code",
      "metadata": {
        "id": "sOd4ZoYrIzoZ"
      },
      "source": [
        "data = X_res\n",
        "labels = y_res"
      ],
      "execution_count": 29,
      "outputs": []
    },
    {
      "cell_type": "markdown",
      "metadata": {
        "id": "ao2kkViPOQNZ"
      },
      "source": [
        "##Modelos, Métricas e Validações"
      ]
    },
    {
      "cell_type": "markdown",
      "metadata": {
        "id": "X1dvunhAl4uT"
      },
      "source": [
        "###Treino-Teste"
      ]
    },
    {
      "cell_type": "markdown",
      "metadata": {
        "id": "IKF4KYmGLNhG"
      },
      "source": [
        "Divisão"
      ]
    },
    {
      "cell_type": "code",
      "metadata": {
        "id": "eeplMn9GHP5-"
      },
      "source": [
        "\n",
        "# aplicando a funcao train_test_split \"Hand-out\" para separar os conjuntos de treino e \n",
        "# teste segundo uma porcentagem de separação definida. \n",
        "# Separando 20% dos dados para teste\n",
        "X_train, X_test, y_train, y_test = train_test_split(data, labels, test_size=0.20, random_state = 42)\n",
        "# Separando para 20%, 30% e 40% dos dados para teste\n",
        "#X_train1, X_test1, y_train1, y_test1 = train_test_split(data, labels, test_size=0.10, random_state = 42)\n",
        "#X_train2, X_test2, y_train2, y_test2 = train_test_split(data, labels, test_size=0.20, random_state = 42)\n",
        "#X_train3, X_test3, y_train3, y_test3 = train_test_split(data, labels, test_size=0.30, random_state = 42)"
      ],
      "execution_count": 32,
      "outputs": []
    },
    {
      "cell_type": "markdown",
      "metadata": {
        "id": "XnPMQFsgIku4"
      },
      "source": [
        "####Modelos"
      ]
    },
    {
      "cell_type": "markdown",
      "metadata": {
        "id": "jWBDP4icfNkl"
      },
      "source": [
        "#####Modelo 01"
      ]
    },
    {
      "cell_type": "code",
      "metadata": {
        "id": "d4sp7CpzHptQ",
        "colab": {
          "base_uri": "https://localhost:8080/"
        },
        "outputId": "709da055-44ab-4209-f14c-892b3b21c16f"
      },
      "source": [
        "# Criando modelo\n",
        "clf = LinearSVC()\n",
        "#clf1 = LinearSVC()\n",
        "#clf2 = LinearSVC()\n",
        "#clf3 = LinearSVC()\n",
        "# Treinamento do modelo\n",
        "clf.fit(X_train, y_train)\n",
        "#clf1.fit(X_train1, y_train1)\n",
        "#clf2.fit(X_train2, y_train2)\n",
        "#clf3.fit(X_train3, y_train3)"
      ],
      "execution_count": 33,
      "outputs": [
        {
          "output_type": "execute_result",
          "data": {
            "text/plain": [
              "LinearSVC()"
            ]
          },
          "metadata": {},
          "execution_count": 33
        }
      ]
    },
    {
      "cell_type": "markdown",
      "metadata": {
        "id": "sijrKWo-C4hO"
      },
      "source": [
        "#####Modelo 02"
      ]
    },
    {
      "cell_type": "code",
      "metadata": {
        "id": "HqYWYFc9fbWV",
        "colab": {
          "base_uri": "https://localhost:8080/"
        },
        "outputId": "3f73fcd0-5df6-4f58-b26c-d38689591b6c"
      },
      "source": [
        "# Criando modelo\n",
        "mnb = MultinomialNB()\n",
        "# Treinamento do modelo\n",
        "mnb.fit(X_train, y_train)"
      ],
      "execution_count": 34,
      "outputs": [
        {
          "output_type": "execute_result",
          "data": {
            "text/plain": [
              "MultinomialNB()"
            ]
          },
          "metadata": {},
          "execution_count": 34
        }
      ]
    },
    {
      "cell_type": "markdown",
      "metadata": {
        "id": "dYg9XPMWmg0Y"
      },
      "source": [
        "#####Modelo 03"
      ]
    },
    {
      "cell_type": "code",
      "metadata": {
        "id": "e8nJ6m7Smis2"
      },
      "source": [
        "# Criando e treinando o modelo \n",
        "rfc = RandomForestClassifier(n_estimators= 10, random_state=42).fit(X_train, y_train)"
      ],
      "execution_count": 35,
      "outputs": []
    },
    {
      "cell_type": "markdown",
      "metadata": {
        "id": "hvd19ZI5l249"
      },
      "source": [
        "#####Modelo 04"
      ]
    },
    {
      "cell_type": "code",
      "metadata": {
        "id": "NGrd2TZvl42d",
        "colab": {
          "base_uri": "https://localhost:8080/"
        },
        "outputId": "e4a43fca-4865-4e99-cc61-fb7e469e16fd"
      },
      "source": [
        "# Criando modelo\n",
        "knn = KNeighborsClassifier(n_neighbors=3)\n",
        "# Treinamento do model\n",
        "knn.fit(X_train, y_train)"
      ],
      "execution_count": 36,
      "outputs": [
        {
          "output_type": "execute_result",
          "data": {
            "text/plain": [
              "KNeighborsClassifier(n_neighbors=3)"
            ]
          },
          "metadata": {},
          "execution_count": 36
        }
      ]
    },
    {
      "cell_type": "markdown",
      "metadata": {
        "id": "2sGxVtfBEvG7"
      },
      "source": [
        "#####Modelo 05"
      ]
    },
    {
      "cell_type": "code",
      "metadata": {
        "id": "izGB2R0tEx18",
        "colab": {
          "base_uri": "https://localhost:8080/"
        },
        "outputId": "eb21017a-c64e-4103-86f1-72cb42cc1eea"
      },
      "source": [
        "# Criando modelo\n",
        "svm = SVC(kernel='sigmoid')\n",
        "# Treinamento do modelo\n",
        "svm.fit(X_train, y_train)\n",
        "#kernel='rbf'\n",
        "#kernel='sigmoid'\n"
      ],
      "execution_count": 37,
      "outputs": [
        {
          "output_type": "execute_result",
          "data": {
            "text/plain": [
              "SVC(kernel='sigmoid')"
            ]
          },
          "metadata": {},
          "execution_count": 37
        }
      ]
    },
    {
      "cell_type": "markdown",
      "metadata": {
        "id": "26s8omZ-USz6"
      },
      "source": [
        "\n",
        "####Predição e Métricas"
      ]
    },
    {
      "cell_type": "markdown",
      "metadata": {
        "id": "KJ5nsAimkbKV"
      },
      "source": [
        "#####Modelo 01"
      ]
    },
    {
      "cell_type": "code",
      "metadata": {
        "id": "Ts_CK3aPHuvC"
      },
      "source": [
        "# Realizando a predição\n",
        "predictions_clf = clf.predict(X_test)\n",
        "#predictions_clf1 = clf1.predict(X_test1)\n",
        "#predictions_clf2 = clf2.predict(X_test2)\n",
        "#predictions_clf3 = clf3.predict(X_test3)"
      ],
      "execution_count": 38,
      "outputs": []
    },
    {
      "cell_type": "code",
      "metadata": {
        "id": "4UedKjKejqhX",
        "colab": {
          "base_uri": "https://localhost:8080/"
        },
        "outputId": "2a540722-e74d-4af3-d1f8-ec61af6fbef1"
      },
      "source": [
        "#avaliando o modelo \n",
        "print('Matriz de Confusão\\n', metrics.confusion_matrix(y_test, predictions_clf)) \n",
        "print('\\nAcurácia\\n', metrics.accuracy_score(y_test, predictions_clf)) \n",
        "print('\\nAcurácia Balanceada por classe\\n', metrics.balanced_accuracy_score(y_test, predictions_clf)) \n",
        "print('\\nPrecision\\n', metrics.precision_score(y_test, predictions_clf)) \n",
        "print('\\nRecall\\n', metrics.recall_score(y_test, predictions_clf)) \n",
        "print('\\nF1\\n', metrics.f1_score(y_test, predictions_clf)) \n",
        "print('\\nAUCROC\\n', metrics.roc_auc_score(y_test, predictions_clf))"
      ],
      "execution_count": 39,
      "outputs": [
        {
          "output_type": "stream",
          "name": "stdout",
          "text": [
            "Matriz de Confusão\n",
            " [[2395  313]\n",
            " [ 199 2418]]\n",
            "\n",
            "Acurácia\n",
            " 0.9038497652582159\n",
            "\n",
            "Acurácia Balanceada por classe\n",
            " 0.9041876374731967\n",
            "\n",
            "Precision\n",
            " 0.8853899670450385\n",
            "\n",
            "Recall\n",
            " 0.9239587313717997\n",
            "\n",
            "F1\n",
            " 0.9042632759910247\n",
            "\n",
            "AUCROC\n",
            " 0.9041876374731969\n"
          ]
        }
      ]
    },
    {
      "cell_type": "code",
      "metadata": {
        "id": "LlFBWiHBH4sM",
        "colab": {
          "base_uri": "https://localhost:8080/"
        },
        "outputId": "cf6e484d-487f-4452-a57d-6bde676ffe2a"
      },
      "source": [
        "# Avaliação resumida\n",
        "print(metrics.classification_report(y_test, predictions_clf))\n",
        "#print(metrics.classification_report(y_test1, predictions_clf1))\n",
        "#print(metrics.classification_report(y_test2, predictions_clf2))\n",
        "#print(metrics.classification_report(y_test3, predictions_clf3))"
      ],
      "execution_count": 40,
      "outputs": [
        {
          "output_type": "stream",
          "name": "stdout",
          "text": [
            "              precision    recall  f1-score   support\n",
            "\n",
            "           0       0.92      0.88      0.90      2708\n",
            "           1       0.89      0.92      0.90      2617\n",
            "\n",
            "    accuracy                           0.90      5325\n",
            "   macro avg       0.90      0.90      0.90      5325\n",
            "weighted avg       0.90      0.90      0.90      5325\n",
            "\n"
          ]
        }
      ]
    },
    {
      "cell_type": "markdown",
      "metadata": {
        "id": "8UFQ_t8Hke5k"
      },
      "source": [
        "#####Modelo 02"
      ]
    },
    {
      "cell_type": "code",
      "metadata": {
        "id": "oqRVXa1DfyYx"
      },
      "source": [
        "# Realizando a predição\n",
        "predictions_mnb = mnb.predict(X_test)"
      ],
      "execution_count": 41,
      "outputs": []
    },
    {
      "cell_type": "code",
      "metadata": {
        "id": "uYRCsa8rmco0",
        "colab": {
          "base_uri": "https://localhost:8080/"
        },
        "outputId": "19a82fd1-b66f-4121-afad-49717f338d82"
      },
      "source": [
        "#avaliando o modelo \n",
        "print('Matriz de Confusão\\n', metrics.confusion_matrix(y_test, predictions_mnb)) \n",
        "print('\\nAcurácia\\n', metrics.accuracy_score(y_test, predictions_mnb)) \n",
        "print('\\nAcurácia Balanceada por classe\\n', metrics.balanced_accuracy_score(y_test, predictions_mnb)) \n",
        "print('\\nPrecision\\n', metrics.precision_score(y_test, predictions_mnb)) \n",
        "print('\\nRecall\\n', metrics.recall_score(y_test, predictions_mnb)) \n",
        "print('\\nF1\\n', metrics.f1_score(y_test, predictions_mnb))\n",
        "print('\\nAUCROC\\n', metrics.roc_auc_score(y_test, predictions_mnb))"
      ],
      "execution_count": 42,
      "outputs": [
        {
          "output_type": "stream",
          "name": "stdout",
          "text": [
            "Matriz de Confusão\n",
            " [[2123  585]\n",
            " [ 132 2485]]\n",
            "\n",
            "Acurácia\n",
            " 0.8653521126760564\n",
            "\n",
            "Acurácia Balanceada por classe\n",
            " 0.8667669888226566\n",
            "\n",
            "Precision\n",
            " 0.8094462540716613\n",
            "\n",
            "Recall\n",
            " 0.9495605655330531\n",
            "\n",
            "F1\n",
            " 0.8739229822401969\n",
            "\n",
            "AUCROC\n",
            " 0.8667669888226566\n"
          ]
        }
      ]
    },
    {
      "cell_type": "code",
      "metadata": {
        "id": "f7CdNdu8g0fj",
        "colab": {
          "base_uri": "https://localhost:8080/"
        },
        "outputId": "d0f7cea9-2921-408f-91ab-57e9786061c7"
      },
      "source": [
        "# Avaliação resumida\n",
        "print(metrics.classification_report(y_test, predictions_mnb))"
      ],
      "execution_count": 43,
      "outputs": [
        {
          "output_type": "stream",
          "name": "stdout",
          "text": [
            "              precision    recall  f1-score   support\n",
            "\n",
            "           0       0.94      0.78      0.86      2708\n",
            "           1       0.81      0.95      0.87      2617\n",
            "\n",
            "    accuracy                           0.87      5325\n",
            "   macro avg       0.88      0.87      0.86      5325\n",
            "weighted avg       0.88      0.87      0.86      5325\n",
            "\n"
          ]
        }
      ]
    },
    {
      "cell_type": "markdown",
      "metadata": {
        "id": "z_UPFS30tnPk"
      },
      "source": [
        "#####Modelo 03"
      ]
    },
    {
      "cell_type": "code",
      "metadata": {
        "id": "ZfT9vSOOtoTH"
      },
      "source": [
        "# Realizando a predição\n",
        "predictions_rfc = rfc.predict(X_test)"
      ],
      "execution_count": 44,
      "outputs": []
    },
    {
      "cell_type": "code",
      "metadata": {
        "id": "4jBOUEx5YTxq",
        "colab": {
          "base_uri": "https://localhost:8080/"
        },
        "outputId": "629d5300-e6c5-41b5-8513-580604da98d9"
      },
      "source": [
        "#avaliando o modelo \n",
        "print('Matriz de Confusão\\n', metrics.confusion_matrix(y_test, predictions_rfc)) \n",
        "print('\\nAcurácia\\n', metrics.accuracy_score(y_test, predictions_rfc)) \n",
        "print('\\nAcurácia Balanceada por classe\\n', metrics.balanced_accuracy_score(y_test, predictions_rfc )) \n",
        "print('\\nPrecision\\n', metrics.precision_score(y_test, predictions_rfc)) \n",
        "print('\\nRecall\\n', metrics.recall_score(y_test, predictions_rfc)) \n",
        "print('\\nF1\\n', metrics.f1_score(y_test, predictions_rfc))\n",
        "print('\\nAUCROC\\n', metrics.roc_auc_score(y_test, predictions_rfc))"
      ],
      "execution_count": 45,
      "outputs": [
        {
          "output_type": "stream",
          "name": "stdout",
          "text": [
            "Matriz de Confusão\n",
            " [[2477  231]\n",
            " [ 678 1939]]\n",
            "\n",
            "Acurácia\n",
            " 0.8292957746478873\n",
            "\n",
            "Acurácia Balanceada por classe\n",
            " 0.8278109582329829\n",
            "\n",
            "Precision\n",
            " 0.8935483870967742\n",
            "\n",
            "Recall\n",
            " 0.7409247229652274\n",
            "\n",
            "F1\n",
            " 0.810110716523919\n",
            "\n",
            "AUCROC\n",
            " 0.827810958232983\n"
          ]
        }
      ]
    },
    {
      "cell_type": "code",
      "metadata": {
        "id": "br5gxPj-Yn85",
        "colab": {
          "base_uri": "https://localhost:8080/"
        },
        "outputId": "dfa081b2-edd5-44eb-e5b3-08618c6fc8e3"
      },
      "source": [
        "# Avaliação resumida\n",
        "print(metrics.classification_report(y_test, predictions_rfc))"
      ],
      "execution_count": 46,
      "outputs": [
        {
          "output_type": "stream",
          "name": "stdout",
          "text": [
            "              precision    recall  f1-score   support\n",
            "\n",
            "           0       0.79      0.91      0.84      2708\n",
            "           1       0.89      0.74      0.81      2617\n",
            "\n",
            "    accuracy                           0.83      5325\n",
            "   macro avg       0.84      0.83      0.83      5325\n",
            "weighted avg       0.84      0.83      0.83      5325\n",
            "\n"
          ]
        }
      ]
    },
    {
      "cell_type": "markdown",
      "metadata": {
        "id": "gDL4G5hBlD8V"
      },
      "source": [
        "#####Modelo 04"
      ]
    },
    {
      "cell_type": "code",
      "metadata": {
        "id": "dmbN0hRglIXy"
      },
      "source": [
        "# Realizando a predição\n",
        "predictions_knn = knn.predict(X_test)"
      ],
      "execution_count": 47,
      "outputs": []
    },
    {
      "cell_type": "code",
      "metadata": {
        "id": "iY6MIwainO3v",
        "colab": {
          "base_uri": "https://localhost:8080/"
        },
        "outputId": "6bde7c6a-81ba-4295-bf57-c9bb4a90c0f4"
      },
      "source": [
        "#avaliando o modelo \n",
        "print('Matriz de Confusão\\n', metrics.confusion_matrix(y_test, predictions_knn)) \n",
        "print('\\nAcurácia\\n', metrics.accuracy_score(y_test, predictions_knn)) \n",
        "print('\\nAcurácia Balanceada por classe\\n', metrics.balanced_accuracy_score(y_test, predictions_knn)) \n",
        "print('\\nPrecision\\n', metrics.precision_score(y_test, predictions_knn)) \n",
        "print('\\nRecall\\n', metrics.recall_score(y_test, predictions_knn)) \n",
        "print('\\nF1\\n', metrics.f1_score(y_test, predictions_knn))\n",
        "print('\\nAUCROC\\n', metrics.roc_auc_score(y_test, predictions_knn))"
      ],
      "execution_count": 48,
      "outputs": [
        {
          "output_type": "stream",
          "name": "stdout",
          "text": [
            "Matriz de Confusão\n",
            " [[2700    8]\n",
            " [1292 1325]]\n",
            "\n",
            "Acurácia\n",
            " 0.755868544600939\n",
            "\n",
            "Acurácia Balanceada por classe\n",
            " 0.7516753597797381\n",
            "\n",
            "Precision\n",
            " 0.9939984996249063\n",
            "\n",
            "Recall\n",
            " 0.5063049293083683\n",
            "\n",
            "F1\n",
            " 0.670886075949367\n",
            "\n",
            "AUCROC\n",
            " 0.7516753597797381\n"
          ]
        }
      ]
    },
    {
      "cell_type": "code",
      "metadata": {
        "id": "YXdJmdHjoCDs",
        "colab": {
          "base_uri": "https://localhost:8080/"
        },
        "outputId": "14d38e93-5c23-475d-f83b-265e96138f39"
      },
      "source": [
        "# Avaliação resumida\n",
        "print(metrics.classification_report(y_test, predictions_knn))"
      ],
      "execution_count": 49,
      "outputs": [
        {
          "output_type": "stream",
          "name": "stdout",
          "text": [
            "              precision    recall  f1-score   support\n",
            "\n",
            "           0       0.68      1.00      0.81      2708\n",
            "           1       0.99      0.51      0.67      2617\n",
            "\n",
            "    accuracy                           0.76      5325\n",
            "   macro avg       0.84      0.75      0.74      5325\n",
            "weighted avg       0.83      0.76      0.74      5325\n",
            "\n"
          ]
        }
      ]
    },
    {
      "cell_type": "markdown",
      "metadata": {
        "id": "ckTbgsBgFGLF"
      },
      "source": [
        "#####Modelo 05"
      ]
    },
    {
      "cell_type": "code",
      "metadata": {
        "id": "1JBnw-S3FI0a"
      },
      "source": [
        "# Realizando a predição\n",
        "predictions_svm = svm.predict(X_test)"
      ],
      "execution_count": 50,
      "outputs": []
    },
    {
      "cell_type": "code",
      "metadata": {
        "id": "bAzQn8wOFQCD",
        "colab": {
          "base_uri": "https://localhost:8080/"
        },
        "outputId": "27137e44-5ae4-4651-ae9c-c7516235a723"
      },
      "source": [
        "#avaliando o modelo \n",
        "print('Matriz de Confusão\\n', metrics.confusion_matrix(y_test, predictions_svm)) \n",
        "print('\\nAcurácia\\n', metrics.accuracy_score(y_test, predictions_svm)) \n",
        "print('\\nAcurácia Balanceada por classe\\n', metrics.balanced_accuracy_score(y_test, predictions_svm)) \n",
        "print('\\nPrecision\\n', metrics.precision_score(y_test, predictions_svm)) \n",
        "print('\\nRecall\\n', metrics.recall_score(y_test, predictions_svm)) \n",
        "print('\\nF1\\n', metrics.f1_score(y_test, predictions_svm))\n",
        "print('\\nAUCROC\\n', metrics.roc_auc_score(y_test, predictions_svm))"
      ],
      "execution_count": 51,
      "outputs": [
        {
          "output_type": "stream",
          "name": "stdout",
          "text": [
            "Matriz de Confusão\n",
            " [[2404  304]\n",
            " [ 241 2376]]\n",
            "\n",
            "Acurácia\n",
            " 0.8976525821596244\n",
            "\n",
            "Acurácia Balanceada por classe\n",
            " 0.8978249249735708\n",
            "\n",
            "Precision\n",
            " 0.8865671641791045\n",
            "\n",
            "Recall\n",
            " 0.907909820405044\n",
            "\n",
            "F1\n",
            " 0.8971115725882576\n",
            "\n",
            "AUCROC\n",
            " 0.8978249249735708\n"
          ]
        }
      ]
    },
    {
      "cell_type": "code",
      "metadata": {
        "id": "RC075G0yFj2F",
        "colab": {
          "base_uri": "https://localhost:8080/"
        },
        "outputId": "c058c9c2-5b8b-4406-d324-3d3b4b1068c0"
      },
      "source": [
        "# Avaliação resumida\n",
        "print(metrics.classification_report(y_test, predictions_svm))"
      ],
      "execution_count": 52,
      "outputs": [
        {
          "output_type": "stream",
          "name": "stdout",
          "text": [
            "              precision    recall  f1-score   support\n",
            "\n",
            "           0       0.91      0.89      0.90      2708\n",
            "           1       0.89      0.91      0.90      2617\n",
            "\n",
            "    accuracy                           0.90      5325\n",
            "   macro avg       0.90      0.90      0.90      5325\n",
            "weighted avg       0.90      0.90      0.90      5325\n",
            "\n"
          ]
        }
      ]
    },
    {
      "cell_type": "markdown",
      "metadata": {
        "id": "bgZcgfouujLM"
      },
      "source": [
        "###Validação Cruzada"
      ]
    },
    {
      "cell_type": "code",
      "metadata": {
        "id": "ylI0q3SS4Z19"
      },
      "source": [
        "# aplicando o modelo de validação cruzada\n",
        "# divide o dataset entre 5 diferentes grupos\n",
        "kfold = KFold(n_splits=5, shuffle=True, random_state=42)"
      ],
      "execution_count": 53,
      "outputs": []
    },
    {
      "cell_type": "markdown",
      "metadata": {
        "id": "oMBEKka7JfUr"
      },
      "source": [
        "####Comparando Modelos"
      ]
    },
    {
      "cell_type": "code",
      "metadata": {
        "id": "Pf7Cl_7fC4w9"
      },
      "source": [
        "# construindo os modelos de classificação\n",
        "modelos = [LinearSVC(), MultinomialNB(), RandomForestClassifier(n_estimators= 10),KNeighborsClassifier(n_neighbors=3),\n",
        "           SVC(kernel='sigmoid'), DecisionTreeClassifier(), LogisticRegression(), SGDClassifier()]"
      ],
      "execution_count": 54,
      "outputs": []
    },
    {
      "cell_type": "code",
      "metadata": {
        "id": "M6jeBx4fFwYL",
        "colab": {
          "base_uri": "https://localhost:8080/"
        },
        "outputId": "60b88faf-9bde-4695-917e-9295e2baa571"
      },
      "source": [
        "#utilizando a validação cruzada\n",
        "mean=[]\n",
        "std=[]\n",
        "for model in modelos:\n",
        "    result = cross_val_score(model, data, labels, cv=kfold, scoring='f1', n_jobs=-1)\n",
        "    mean.append(result)\n",
        "    std.append(result)"
      ],
      "execution_count": 55,
      "outputs": [
        {
          "output_type": "stream",
          "name": "stderr",
          "text": [
            "/usr/local/lib/python3.7/dist-packages/joblib/externals/loky/process_executor.py:705: UserWarning: A worker stopped while some jobs were given to the executor. This can be caused by a too short worker timeout or by a memory leak.\n",
            "  \"timeout or by a memory leak.\", UserWarning\n"
          ]
        }
      ]
    },
    {
      "cell_type": "code",
      "metadata": {
        "id": "MyOpHeVrGURH",
        "colab": {
          "base_uri": "https://localhost:8080/",
          "height": 937
        },
        "outputId": "b7f254aa-44b2-4c11-a23d-afa7fddfa23d"
      },
      "source": [
        "classificadores=['Linear SVM','Naives Bayes', 'Random Forest','KNN', 'SVM', 'Decision Tree', 'Logistic Regression', 'SGD']\n",
        "\n",
        "plt.figure(figsize=(15, 10))\n",
        "for i in range(len(mean)):\n",
        "    sns.distplot(mean[i], hist=False, kde_kws={\"shade\": True})\n",
        "    \n",
        "plt.title(\"Distribuição de cada um dos classificadores\", fontsize=15)\n",
        "plt.legend(classificadores)\n",
        "plt.xlabel(\"F1\", labelpad=20)\n",
        "plt.yticks([])\n",
        "\n",
        "plt.show()"
      ],
      "execution_count": 56,
      "outputs": [
        {
          "output_type": "stream",
          "name": "stderr",
          "text": [
            "/usr/local/lib/python3.7/dist-packages/seaborn/distributions.py:2619: FutureWarning: `distplot` is a deprecated function and will be removed in a future version. Please adapt your code to use either `displot` (a figure-level function with similar flexibility) or `kdeplot` (an axes-level function for kernel density plots).\n",
            "  warnings.warn(msg, FutureWarning)\n",
            "/usr/local/lib/python3.7/dist-packages/seaborn/distributions.py:2619: FutureWarning: `distplot` is a deprecated function and will be removed in a future version. Please adapt your code to use either `displot` (a figure-level function with similar flexibility) or `kdeplot` (an axes-level function for kernel density plots).\n",
            "  warnings.warn(msg, FutureWarning)\n",
            "/usr/local/lib/python3.7/dist-packages/seaborn/distributions.py:2619: FutureWarning: `distplot` is a deprecated function and will be removed in a future version. Please adapt your code to use either `displot` (a figure-level function with similar flexibility) or `kdeplot` (an axes-level function for kernel density plots).\n",
            "  warnings.warn(msg, FutureWarning)\n",
            "/usr/local/lib/python3.7/dist-packages/seaborn/distributions.py:2619: FutureWarning: `distplot` is a deprecated function and will be removed in a future version. Please adapt your code to use either `displot` (a figure-level function with similar flexibility) or `kdeplot` (an axes-level function for kernel density plots).\n",
            "  warnings.warn(msg, FutureWarning)\n",
            "/usr/local/lib/python3.7/dist-packages/seaborn/distributions.py:2619: FutureWarning: `distplot` is a deprecated function and will be removed in a future version. Please adapt your code to use either `displot` (a figure-level function with similar flexibility) or `kdeplot` (an axes-level function for kernel density plots).\n",
            "  warnings.warn(msg, FutureWarning)\n",
            "/usr/local/lib/python3.7/dist-packages/seaborn/distributions.py:2619: FutureWarning: `distplot` is a deprecated function and will be removed in a future version. Please adapt your code to use either `displot` (a figure-level function with similar flexibility) or `kdeplot` (an axes-level function for kernel density plots).\n",
            "  warnings.warn(msg, FutureWarning)\n",
            "/usr/local/lib/python3.7/dist-packages/seaborn/distributions.py:2619: FutureWarning: `distplot` is a deprecated function and will be removed in a future version. Please adapt your code to use either `displot` (a figure-level function with similar flexibility) or `kdeplot` (an axes-level function for kernel density plots).\n",
            "  warnings.warn(msg, FutureWarning)\n",
            "/usr/local/lib/python3.7/dist-packages/seaborn/distributions.py:2619: FutureWarning: `distplot` is a deprecated function and will be removed in a future version. Please adapt your code to use either `displot` (a figure-level function with similar flexibility) or `kdeplot` (an axes-level function for kernel density plots).\n",
            "  warnings.warn(msg, FutureWarning)\n"
          ]
        },
        {
          "output_type": "display_data",
          "data": {
            "image/png": "[encoded data removed]",
            "text/plain": [
              "<Figure size 1080x720 with 1 Axes>"
            ]
          },
          "metadata": {
            "needs_background": "light"
          }
        }
      ]
    },
    {
      "cell_type": "markdown",
      "metadata": {
        "id": "nwXHCYGlQZs-"
      },
      "source": [
        "####Modelos"
      ]
    },
    {
      "cell_type": "markdown",
      "metadata": {
        "id": "lFtIVExHJepZ"
      },
      "source": [
        "#####Modelo 01"
      ]
    },
    {
      "cell_type": "code",
      "metadata": {
        "id": "nVvXI3_W4Mhm"
      },
      "source": [
        "classifier_cv = SVC(kernel='sigmoid')\n",
        "scores_cv = cross_val_score(classifier_cv, data, labels, cv=kfold)\n",
        "scores_cv"
      ],
      "execution_count": null,
      "outputs": []
    },
    {
      "cell_type": "markdown",
      "metadata": {
        "id": "mWqL425iJmix"
      },
      "source": [
        "Métricas"
      ]
    },
    {
      "cell_type": "code",
      "metadata": {
        "id": "AcN48dog74sY"
      },
      "source": [
        "print(\"Acurácia: %0.2f (+/- %0.2f)\" % (scores_cv.mean(), scores_cv.std() * 2))"
      ],
      "execution_count": null,
      "outputs": []
    },
    {
      "cell_type": "code",
      "metadata": {
        "id": "gLKv_7q71DFr"
      },
      "source": [
        "scores_cv_precision = cross_val_score(classifier_cv, data, labels, cv=kfold, scoring='precision')\n",
        "scores_cv_recall = cross_val_score(classifier_cv, data, labels, cv=kfold, scoring='recall')\n",
        "scores_cv_f1 = cross_val_score(classifier_cv, data, labels, cv=kfold, scoring='f1')\n",
        "scores_cv_aucroc = cross_val_score(classifier_cv, data, labels, cv=kfold, scoring='roc_auc')\n",
        "\n",
        "\n",
        "print(\"Precision: %0.2f (+/- %0.2f)\" % (scores_cv_precision.mean(), scores_cv_precision.std() * 2))\n",
        "print(\"Recall: %0.2f (+/- %0.2f)\" % (scores_cv_recall.mean(), scores_cv_recall.std() * 2))\n",
        "print(\"F1: %0.2f (+/- %0.2f)\" % (scores_cv_f1.mean(), scores_cv_f1.std() * 2))\n",
        "print(\"AUCROC: %0.2f (+/- %0.2f)\" % (scores_cv_aucroc.mean(), scores_cv_aucroc.std() * 2))"
      ],
      "execution_count": null,
      "outputs": []
    },
    {
      "cell_type": "markdown",
      "metadata": {
        "id": "peX7tzA34-oZ"
      },
      "source": [
        "####Validação Cruzada com Estratificação"
      ]
    },
    {
      "cell_type": "markdown",
      "metadata": {
        "id": "FNERayAWKGSj"
      },
      "source": [
        "Modelo"
      ]
    },
    {
      "cell_type": "code",
      "metadata": {
        "id": "ov-WRv_L5Uxc"
      },
      "source": [
        "classifier_cv = LinearSVC()\n",
        "\n",
        "cv_strat = StratifiedKFold(n_splits = 10)\n",
        "\n",
        "scores_cv_strat = cross_val_score(classifier_cv, data, labels, cv=cv_strat)\n",
        "scores_cv_strat_precision = cross_val_score(classifier_cv, data, labels, cv=cv_strat, scoring='precision')\n",
        "scores_cv_strat_recall = cross_val_score(classifier_cv, data, labels, cv=cv_strat, scoring='recall')\n",
        "scores_cv_strat_f1 = cross_val_score(classifier_cv, data, labels, cv=cv_strat, scoring='f1')"
      ],
      "execution_count": null,
      "outputs": []
    },
    {
      "cell_type": "markdown",
      "metadata": {
        "id": "Ha_2UbDPKNBq"
      },
      "source": [
        "Métricas"
      ]
    },
    {
      "cell_type": "code",
      "metadata": {
        "id": "EfKIdp19KPnf"
      },
      "source": [
        "print(\"Acurácia: %0.2f (+/- %0.2f)\" % (scores_cv_strat.mean(), scores_cv_strat.std() * 2))\n",
        "print(\"Precision: %0.2f (+/- %0.2f)\" % (scores_cv_strat_precision.mean(), scores_cv_strat_precision.std() * 2))\n",
        "print(\"Recall: %0.2f (+/- %0.2f)\" % (scores_cv_strat_recall.mean(), scores_cv_strat_recall.std() * 2))\n",
        "print(\"F1: %0.2f (+/- %0.2f)\" % (scores_cv_strat_f1.mean(), scores_cv_strat_f1.std() * 2))"
      ],
      "execution_count": null,
      "outputs": []
    },
    {
      "cell_type": "markdown",
      "metadata": {
        "id": "g3fPSE_08thw"
      },
      "source": [
        "####Leave One Out"
      ]
    },
    {
      "cell_type": "code",
      "metadata": {
        "id": "PN30q3Vz8vhT"
      },
      "source": [
        "if _LEAVE_ONE_OUT_TRAIN : \n",
        "  classifier_cv = LinearSVC()\n",
        "\n",
        "  loo = LeaveOneOut()\n",
        "\n",
        "  scores_loo = cross_val_score(classifier_cv, data, labels, cv=loo)\n",
        "\n",
        "  print(\"Acurácia: %0.2f (+/- %0.2f)\" % (scores_loo.mean(), scores_loo.std() * 2))"
      ],
      "execution_count": null,
      "outputs": []
    },
    {
      "cell_type": "markdown",
      "metadata": {
        "id": "_g2vUyk1PC38"
      },
      "source": [
        "###Sintonia de Hiperparâmetros"
      ]
    },
    {
      "cell_type": "markdown",
      "metadata": {
        "id": "X5qrrsJeP6Ra"
      },
      "source": [
        "####Grid Search"
      ]
    },
    {
      "cell_type": "markdown",
      "metadata": {
        "id": "rh0ciH95yIPn"
      },
      "source": [
        "grid search svm"
      ]
    },
    {
      "cell_type": "code",
      "metadata": {
        "id": "_uTGSN8lPISM"
      },
      "source": [
        "if _GRID_SEARCH_TRAIN:    \n",
        "  #definindo hiperparâmetros\n",
        "  hiperparam = {'kernel':('sigmoid', 'rbf'), 'C':[0.01, 1, 10]}\n",
        "\n",
        "  #definindo o tipo de validacao cruzada e o numero de folds\n",
        "  cv_strat = StratifiedKFold(n_splits = 10)\n",
        "\n",
        "  #instânciando meu classificador\n",
        "  classifier = SVC()\n",
        "\n",
        "  #definindo a estrategia de score a partir da metrica f1\n",
        "  f1 = make_scorer(f1_score)\n",
        "\n",
        "  #instanciando e modelando o grid search com os hiperparametros e a validação definidas.\n",
        "  grid_cv = GridSearchCV(classifier, hiperparam, cv = cv_strat, scoring = f1)\n",
        "  grid_cv.fit(data, labels)"
      ],
      "execution_count": null,
      "outputs": []
    },
    {
      "cell_type": "code",
      "metadata": {
        "id": "najE7GiXPdq7"
      },
      "source": [
        "if _GRID_SEARCH_TRAIN:      \n",
        "  #vamos olhar para todos os resultados encontrados!\n",
        "  print('Resumo de todos os resultados encontrados:\\n\\n', grid_cv.cv_results_)\n"
      ],
      "execution_count": null,
      "outputs": []
    },
    {
      "cell_type": "code",
      "metadata": {
        "id": "Ktksd3xVejlH"
      },
      "source": [
        "if _GRID_SEARCH_TRAIN:\n",
        "  #vamos olhar para os melhores resultados encontrados pelo Grid Search\n",
        "  print('Melhor resultado f1:', grid_cv.best_score_)\n",
        "  print('\\n\\nMelhor configuração de hiperparâmetros:', grid_cv.best_params_)\n",
        "  print( '\\n\\nConfigurações de todos os hiperparâmetros do melhor estimado encontrado pelo GridSearch: \\n', grid_cv.best_estimator_)"
      ],
      "execution_count": null,
      "outputs": []
    },
    {
      "cell_type": "markdown",
      "metadata": {
        "id": "n3GtqLCWvoer"
      },
      "source": [
        "grid serch random forest classifier"
      ]
    },
    {
      "cell_type": "code",
      "metadata": {
        "colab": {
          "base_uri": "https://localhost:8080/"
        },
        "id": "PtFQ1OCzvvzc",
        "outputId": "a6957ddc-0735-449c-ad81-55954ec0036b"
      },
      "source": [
        "#definindo hiperparâmetros\n",
        "hiperparam = { \n",
        "    'n_estimators': [200, 500],\n",
        "    'max_features': ['auto', 'sqrt', 'log2'],\n",
        "    'max_depth' : [4,5,6,7,8],\n",
        "    'criterion' :['gini', 'entropy']\n",
        "}\n",
        "\n",
        "\n",
        "#definindo o tipo de validacao cruzada e o numero de folds\n",
        "cv_strat = StratifiedKFold(n_splits = 10)\n",
        "\n",
        "#instânciando meu classificador\n",
        "classifier = RandomForestClassifier(random_state=42)\n",
        "\n",
        "#definindo a estrategia de score a partir da metrica f1\n",
        "f1 = make_scorer(f1_score)\n",
        "\n",
        "#instanciando e modelando o grid search com os hiperparametros e a validação definidas.\n",
        "grid_cv = GridSearchCV(classifier, hiperparam, cv = cv_strat, scoring = f1)\n",
        "grid_cv.fit(data, labels)"
      ],
      "execution_count": null,
      "outputs": [
        {
          "output_type": "execute_result",
          "data": {
            "text/plain": [
              "GridSearchCV(cv=StratifiedKFold(n_splits=10, random_state=None, shuffle=False),\n",
              "             error_score=nan,\n",
              "             estimator=RandomForestClassifier(bootstrap=True, ccp_alpha=0.0,\n",
              "                                              class_weight=None,\n",
              "                                              criterion='gini', max_depth=None,\n",
              "                                              max_features='auto',\n",
              "                                              max_leaf_nodes=None,\n",
              "                                              max_samples=None,\n",
              "                                              min_impurity_decrease=0.0,\n",
              "                                              min_impurity_split=None,\n",
              "                                              min_samples_leaf=1,\n",
              "                                              min_samples_split=2,\n",
              "                                              min_weight_fraction_leaf=0.0,\n",
              "                                              n_estimators=100, n_jobs=None,\n",
              "                                              oob_score=False, random_state=42,\n",
              "                                              verbose=0, warm_start=False),\n",
              "             iid='deprecated', n_jobs=None,\n",
              "             param_grid={'criterion': ['gini', 'entropy'],\n",
              "                         'max_depth': [4, 5, 6, 7, 8],\n",
              "                         'max_features': ['auto', 'sqrt', 'log2'],\n",
              "                         'n_estimators': [200, 500]},\n",
              "             pre_dispatch='2*n_jobs', refit=True, return_train_score=False,\n",
              "             scoring=make_scorer(f1_score), verbose=0)"
            ]
          },
          "metadata": {},
          "execution_count": 176
        }
      ]
    },
    {
      "cell_type": "code",
      "metadata": {
        "colab": {
          "base_uri": "https://localhost:8080/"
        },
        "id": "QzicXIS5xxTo",
        "outputId": "d0f7bbd1-9dac-4041-eb48-64c5fd9d663c"
      },
      "source": [
        "#vamos olhar para todos os resultados encontrados!\n",
        "print('Resumo de todos os resultados encontrados:\\n\\n', grid_cv.cv_results_)"
      ],
      "execution_count": null,
      "outputs": [
        {
          "output_type": "stream",
          "name": "stdout",
          "text": [
            "Resumo de todos os resultados encontrados:\n",
            "\n",
            " {'mean_fit_time': array([ 4.31686747, 10.71769745,  4.24543548, 10.61512754,  1.059673  ,\n",
            "        2.60577414,  5.13687396, 12.78645699,  5.14900203, 12.7441206 ,\n",
            "        1.14523516,  2.80273633,  6.03746679, 15.18031225,  6.11566124,\n",
            "       15.28577223,  1.25639446,  3.07845044,  7.06158934, 18.01097951,\n",
            "        7.19916592, 17.80667827,  1.36630609,  3.34879649,  8.12946105,\n",
            "       20.06571589,  8.09133365, 20.11463778,  1.4209739 ,  3.52276525,\n",
            "        4.2207375 , 10.4596396 ,  4.17686493, 10.4329551 ,  1.03246291,\n",
            "        2.53572474,  5.18079717, 12.83552175,  5.14468274, 12.82820697,\n",
            "        1.12981501,  2.80145259,  6.06763117, 15.30204761,  6.05221989,\n",
            "       15.11372783,  1.2195508 ,  3.00218942,  7.00972359, 17.50277603,\n",
            "        7.00535994, 17.43657415,  1.31911678,  3.22587881,  7.93970115,\n",
            "       19.83451335,  7.93380022, 19.83418021,  1.40904682,  3.49022117]), 'std_fit_time': array([0.0417422 , 0.13422792, 0.06090958, 0.06620958, 0.02336171,\n",
            "       0.05751701, 0.07261754, 0.16450381, 0.07731529, 0.21079671,\n",
            "       0.01560719, 0.06649807, 0.0986795 , 0.29064538, 0.10700929,\n",
            "       0.22124581, 0.02077773, 0.08087306, 0.08156949, 0.48607903,\n",
            "       0.06911223, 0.34206656, 0.02257173, 0.07771552, 0.10087047,\n",
            "       0.40534559, 0.11752156, 0.23747981, 0.03323698, 0.10452286,\n",
            "       0.0341052 , 0.09686154, 0.05744007, 0.11610752, 0.01827328,\n",
            "       0.04082701, 0.09116896, 0.21782885, 0.06592005, 0.13921722,\n",
            "       0.02216689, 0.05290286, 0.07943516, 0.27586433, 0.08371645,\n",
            "       0.19968944, 0.02831092, 0.07080751, 0.07256821, 0.20466802,\n",
            "       0.05159102, 0.21490744, 0.03723322, 0.07363013, 0.11591127,\n",
            "       0.25669311, 0.12223935, 0.2746343 , 0.03082558, 0.09240986]), 'mean_score_time': array([0.17569046, 0.4390069 , 0.17429419, 0.43273404, 0.17405269,\n",
            "       0.43963561, 0.17336247, 0.42352803, 0.17292941, 0.42649376,\n",
            "       0.17305658, 0.4195955 , 0.17308073, 0.42353795, 0.17224574,\n",
            "       0.42562175, 0.17364073, 0.43067067, 0.17512426, 0.42615464,\n",
            "       0.17554679, 0.43409939, 0.17486327, 0.43137012, 0.1714323 ,\n",
            "       0.42555311, 0.17472243, 0.42686286, 0.17341032, 0.42787087,\n",
            "       0.17151465, 0.42664318, 0.17029314, 0.42397325, 0.17128143,\n",
            "       0.42137856, 0.17444944, 0.43148518, 0.17166529, 0.42566252,\n",
            "       0.17198794, 0.42708001, 0.17235146, 0.43111539, 0.17175317,\n",
            "       0.42112217, 0.17209706, 0.42837   , 0.17271364, 0.42497127,\n",
            "       0.17204554, 0.42495289, 0.17288754, 0.4231621 , 0.17315938,\n",
            "       0.42075369, 0.17356665, 0.42989552, 0.17256227, 0.4186923 ]), 'std_score_time': array([0.0079234 , 0.02743666, 0.00758251, 0.0225635 , 0.00920598,\n",
            "       0.03792059, 0.01015577, 0.01852563, 0.01015647, 0.01899932,\n",
            "       0.00988875, 0.01950981, 0.01004365, 0.02035093, 0.00918263,\n",
            "       0.02207058, 0.00897236, 0.0296807 , 0.00797082, 0.0212169 ,\n",
            "       0.00901776, 0.02703245, 0.010027  , 0.02301153, 0.00898769,\n",
            "       0.018084  , 0.01034222, 0.0186823 , 0.00875561, 0.01481058,\n",
            "       0.00779475, 0.0207847 , 0.00842157, 0.02159517, 0.01042628,\n",
            "       0.02207936, 0.00929654, 0.02603287, 0.0091761 , 0.0202793 ,\n",
            "       0.01115922, 0.01959153, 0.00886813, 0.02191319, 0.00895229,\n",
            "       0.02304271, 0.00844125, 0.02005684, 0.0086556 , 0.02200783,\n",
            "       0.00843512, 0.01972527, 0.00790828, 0.02289198, 0.00635849,\n",
            "       0.0178661 , 0.00955377, 0.01627142, 0.00862366, 0.01888909]), 'param_criterion': masked_array(data=['gini', 'gini', 'gini', 'gini', 'gini', 'gini', 'gini',\n",
            "                   'gini', 'gini', 'gini', 'gini', 'gini', 'gini', 'gini',\n",
            "                   'gini', 'gini', 'gini', 'gini', 'gini', 'gini', 'gini',\n",
            "                   'gini', 'gini', 'gini', 'gini', 'gini', 'gini', 'gini',\n",
            "                   'gini', 'gini', 'entropy', 'entropy', 'entropy',\n",
            "                   'entropy', 'entropy', 'entropy', 'entropy', 'entropy',\n",
            "                   'entropy', 'entropy', 'entropy', 'entropy', 'entropy',\n",
            "                   'entropy', 'entropy', 'entropy', 'entropy', 'entropy',\n",
            "                   'entropy', 'entropy', 'entropy', 'entropy', 'entropy',\n",
            "                   'entropy', 'entropy', 'entropy', 'entropy', 'entropy',\n",
            "                   'entropy', 'entropy'],\n",
            "             mask=[False, False, False, False, False, False, False, False,\n",
            "                   False, False, False, False, False, False, False, False,\n",
            "                   False, False, False, False, False, False, False, False,\n",
            "                   False, False, False, False, False, False, False, False,\n",
            "                   False, False, False, False, False, False, False, False,\n",
            "                   False, False, False, False, False, False, False, False,\n",
            "                   False, False, False, False, False, False, False, False,\n",
            "                   False, False, False, False],\n",
            "       fill_value='?',\n",
            "            dtype=object), 'param_max_depth': masked_array(data=[4, 4, 4, 4, 4, 4, 5, 5, 5, 5, 5, 5, 6, 6, 6, 6, 6, 6,\n",
            "                   7, 7, 7, 7, 7, 7, 8, 8, 8, 8, 8, 8, 4, 4, 4, 4, 4, 4,\n",
            "                   5, 5, 5, 5, 5, 5, 6, 6, 6, 6, 6, 6, 7, 7, 7, 7, 7, 7,\n",
            "                   8, 8, 8, 8, 8, 8],\n",
            "             mask=[False, False, False, False, False, False, False, False,\n",
            "                   False, False, False, False, False, False, False, False,\n",
            "                   False, False, False, False, False, False, False, False,\n",
            "                   False, False, False, False, False, False, False, False,\n",
            "                   False, False, False, False, False, False, False, False,\n",
            "                   False, False, False, False, False, False, False, False,\n",
            "                   False, False, False, False, False, False, False, False,\n",
            "                   False, False, False, False],\n",
            "       fill_value='?',\n",
            "            dtype=object), 'param_max_features': masked_array(data=['auto', 'auto', 'sqrt', 'sqrt', 'log2', 'log2', 'auto',\n",
            "                   'auto', 'sqrt', 'sqrt', 'log2', 'log2', 'auto', 'auto',\n",
            "                   'sqrt', 'sqrt', 'log2', 'log2', 'auto', 'auto', 'sqrt',\n",
            "                   'sqrt', 'log2', 'log2', 'auto', 'auto', 'sqrt', 'sqrt',\n",
            "                   'log2', 'log2', 'auto', 'auto', 'sqrt', 'sqrt', 'log2',\n",
            "                   'log2', 'auto', 'auto', 'sqrt', 'sqrt', 'log2', 'log2',\n",
            "                   'auto', 'auto', 'sqrt', 'sqrt', 'log2', 'log2', 'auto',\n",
            "                   'auto', 'sqrt', 'sqrt', 'log2', 'log2', 'auto', 'auto',\n",
            "                   'sqrt', 'sqrt', 'log2', 'log2'],\n",
            "             mask=[False, False, False, False, False, False, False, False,\n",
            "                   False, False, False, False, False, False, False, False,\n",
            "                   False, False, False, False, False, False, False, False,\n",
            "                   False, False, False, False, False, False, False, False,\n",
            "                   False, False, False, False, False, False, False, False,\n",
            "                   False, False, False, False, False, False, False, False,\n",
            "                   False, False, False, False, False, False, False, False,\n",
            "                   False, False, False, False],\n",
            "       fill_value='?',\n",
            "            dtype=object), 'param_n_estimators': masked_array(data=[200, 500, 200, 500, 200, 500, 200, 500, 200, 500, 200,\n",
            "                   500, 200, 500, 200, 500, 200, 500, 200, 500, 200, 500,\n",
            "                   200, 500, 200, 500, 200, 500, 200, 500, 200, 500, 200,\n",
            "                   500, 200, 500, 200, 500, 200, 500, 200, 500, 200, 500,\n",
            "                   200, 500, 200, 500, 200, 500, 200, 500, 200, 500, 200,\n",
            "                   500, 200, 500, 200, 500],\n",
            "             mask=[False, False, False, False, False, False, False, False,\n",
            "                   False, False, False, False, False, False, False, False,\n",
            "                   False, False, False, False, False, False, False, False,\n",
            "                   False, False, False, False, False, False, False, False,\n",
            "                   False, False, False, False, False, False, False, False,\n",
            "                   False, False, False, False, False, False, False, False,\n",
            "                   False, False, False, False, False, False, False, False,\n",
            "                   False, False, False, False],\n",
            "       fill_value='?',\n",
            "            dtype=object), 'params': [{'criterion': 'gini', 'max_depth': 4, 'max_features': 'auto', 'n_estimators': 200}, {'criterion': 'gini', 'max_depth': 4, 'max_features': 'auto', 'n_estimators': 500}, {'criterion': 'gini', 'max_depth': 4, 'max_features': 'sqrt', 'n_estimators': 200}, {'criterion': 'gini', 'max_depth': 4, 'max_features': 'sqrt', 'n_estimators': 500}, {'criterion': 'gini', 'max_depth': 4, 'max_features': 'log2', 'n_estimators': 200}, {'criterion': 'gini', 'max_depth': 4, 'max_features': 'log2', 'n_estimators': 500}, {'criterion': 'gini', 'max_depth': 5, 'max_features': 'auto', 'n_estimators': 200}, {'criterion': 'gini', 'max_depth': 5, 'max_features': 'auto', 'n_estimators': 500}, {'criterion': 'gini', 'max_depth': 5, 'max_features': 'sqrt', 'n_estimators': 200}, {'criterion': 'gini', 'max_depth': 5, 'max_features': 'sqrt', 'n_estimators': 500}, {'criterion': 'gini', 'max_depth': 5, 'max_features': 'log2', 'n_estimators': 200}, {'criterion': 'gini', 'max_depth': 5, 'max_features': 'log2', 'n_estimators': 500}, {'criterion': 'gini', 'max_depth': 6, 'max_features': 'auto', 'n_estimators': 200}, {'criterion': 'gini', 'max_depth': 6, 'max_features': 'auto', 'n_estimators': 500}, {'criterion': 'gini', 'max_depth': 6, 'max_features': 'sqrt', 'n_estimators': 200}, {'criterion': 'gini', 'max_depth': 6, 'max_features': 'sqrt', 'n_estimators': 500}, {'criterion': 'gini', 'max_depth': 6, 'max_features': 'log2', 'n_estimators': 200}, {'criterion': 'gini', 'max_depth': 6, 'max_features': 'log2', 'n_estimators': 500}, {'criterion': 'gini', 'max_depth': 7, 'max_features': 'auto', 'n_estimators': 200}, {'criterion': 'gini', 'max_depth': 7, 'max_features': 'auto', 'n_estimators': 500}, {'criterion': 'gini', 'max_depth': 7, 'max_features': 'sqrt', 'n_estimators': 200}, {'criterion': 'gini', 'max_depth': 7, 'max_features': 'sqrt', 'n_estimators': 500}, {'criterion': 'gini', 'max_depth': 7, 'max_features': 'log2', 'n_estimators': 200}, {'criterion': 'gini', 'max_depth': 7, 'max_features': 'log2', 'n_estimators': 500}, {'criterion': 'gini', 'max_depth': 8, 'max_features': 'auto', 'n_estimators': 200}, {'criterion': 'gini', 'max_depth': 8, 'max_features': 'auto', 'n_estimators': 500}, {'criterion': 'gini', 'max_depth': 8, 'max_features': 'sqrt', 'n_estimators': 200}, {'criterion': 'gini', 'max_depth': 8, 'max_features': 'sqrt', 'n_estimators': 500}, {'criterion': 'gini', 'max_depth': 8, 'max_features': 'log2', 'n_estimators': 200}, {'criterion': 'gini', 'max_depth': 8, 'max_features': 'log2', 'n_estimators': 500}, {'criterion': 'entropy', 'max_depth': 4, 'max_features': 'auto', 'n_estimators': 200}, {'criterion': 'entropy', 'max_depth': 4, 'max_features': 'auto', 'n_estimators': 500}, {'criterion': 'entropy', 'max_depth': 4, 'max_features': 'sqrt', 'n_estimators': 200}, {'criterion': 'entropy', 'max_depth': 4, 'max_features': 'sqrt', 'n_estimators': 500}, {'criterion': 'entropy', 'max_depth': 4, 'max_features': 'log2', 'n_estimators': 200}, {'criterion': 'entropy', 'max_depth': 4, 'max_features': 'log2', 'n_estimators': 500}, {'criterion': 'entropy', 'max_depth': 5, 'max_features': 'auto', 'n_estimators': 200}, {'criterion': 'entropy', 'max_depth': 5, 'max_features': 'auto', 'n_estimators': 500}, {'criterion': 'entropy', 'max_depth': 5, 'max_features': 'sqrt', 'n_estimators': 200}, {'criterion': 'entropy', 'max_depth': 5, 'max_features': 'sqrt', 'n_estimators': 500}, {'criterion': 'entropy', 'max_depth': 5, 'max_features': 'log2', 'n_estimators': 200}, {'criterion': 'entropy', 'max_depth': 5, 'max_features': 'log2', 'n_estimators': 500}, {'criterion': 'entropy', 'max_depth': 6, 'max_features': 'auto', 'n_estimators': 200}, {'criterion': 'entropy', 'max_depth': 6, 'max_features': 'auto', 'n_estimators': 500}, {'criterion': 'entropy', 'max_depth': 6, 'max_features': 'sqrt', 'n_estimators': 200}, {'criterion': 'entropy', 'max_depth': 6, 'max_features': 'sqrt', 'n_estimators': 500}, {'criterion': 'entropy', 'max_depth': 6, 'max_features': 'log2', 'n_estimators': 200}, {'criterion': 'entropy', 'max_depth': 6, 'max_features': 'log2', 'n_estimators': 500}, {'criterion': 'entropy', 'max_depth': 7, 'max_features': 'auto', 'n_estimators': 200}, {'criterion': 'entropy', 'max_depth': 7, 'max_features': 'auto', 'n_estimators': 500}, {'criterion': 'entropy', 'max_depth': 7, 'max_features': 'sqrt', 'n_estimators': 200}, {'criterion': 'entropy', 'max_depth': 7, 'max_features': 'sqrt', 'n_estimators': 500}, {'criterion': 'entropy', 'max_depth': 7, 'max_features': 'log2', 'n_estimators': 200}, {'criterion': 'entropy', 'max_depth': 7, 'max_features': 'log2', 'n_estimators': 500}, {'criterion': 'entropy', 'max_depth': 8, 'max_features': 'auto', 'n_estimators': 200}, {'criterion': 'entropy', 'max_depth': 8, 'max_features': 'auto', 'n_estimators': 500}, {'criterion': 'entropy', 'max_depth': 8, 'max_features': 'sqrt', 'n_estimators': 200}, {'criterion': 'entropy', 'max_depth': 8, 'max_features': 'sqrt', 'n_estimators': 500}, {'criterion': 'entropy', 'max_depth': 8, 'max_features': 'log2', 'n_estimators': 200}, {'criterion': 'entropy', 'max_depth': 8, 'max_features': 'log2', 'n_estimators': 500}], 'split0_test_score': array([0.61995565, 0.61954075, 0.61995565, 0.61954075, 0.49224806,\n",
            "       0.51855422, 0.61593235, 0.62230216, 0.61593235, 0.62230216,\n",
            "       0.49014897, 0.51575376, 0.6047555 , 0.63237925, 0.6047555 ,\n",
            "       0.63237925, 0.50143816, 0.45708376, 0.60633081, 0.62690583,\n",
            "       0.60633081, 0.62690583, 0.51071939, 0.47535934, 0.61565996,\n",
            "       0.62911221, 0.61565996, 0.62911221, 0.51461428, 0.47900467,\n",
            "       0.62218294, 0.6022779 , 0.62218294, 0.6022779 , 0.49199418,\n",
            "       0.52140452, 0.61866667, 0.61719457, 0.61866667, 0.61719457,\n",
            "       0.49928537, 0.52009685, 0.59171598, 0.63346792, 0.59171598,\n",
            "       0.63346792, 0.49976111, 0.45708376, 0.59990979, 0.62224223,\n",
            "       0.59990979, 0.62224223, 0.50407283, 0.46949328, 0.60154475,\n",
            "       0.62381168, 0.60154475, 0.62381168, 0.51080173, 0.47633905]), 'split1_test_score': array([0.57555255, 0.58208276, 0.57555255, 0.58208276, 0.50833333,\n",
            "       0.51933174, 0.58781038, 0.57769653, 0.58781038, 0.57769653,\n",
            "       0.49907749, 0.52581262, 0.55442804, 0.56577737, 0.55442804,\n",
            "       0.56577737, 0.5043799 , 0.45812311, 0.55978012, 0.57655172,\n",
            "       0.55978012, 0.57655172, 0.51037736, 0.47537688, 0.57403189,\n",
            "       0.57981651, 0.57403189, 0.57981651, 0.52587413, 0.48792757,\n",
            "       0.55641846, 0.56431535, 0.55641846, 0.56431535, 0.51018519,\n",
            "       0.51883643, 0.58221024, 0.56497696, 0.58221024, 0.56497696,\n",
            "       0.50115154, 0.52335558, 0.56736939, 0.55214153, 0.56736939,\n",
            "       0.55214153, 0.50919118, 0.45898339, 0.5902965 , 0.578125  ,\n",
            "       0.5902965 , 0.578125  , 0.51226415, 0.47666834, 0.59919028,\n",
            "       0.58698662, 0.59919028, 0.58698662, 0.52998605, 0.49075462]), 'split2_test_score': array([0.55570839, 0.56505576, 0.55570839, 0.56505576, 0.43606075,\n",
            "       0.4287169 , 0.58122744, 0.57076781, 0.58122744, 0.57076781,\n",
            "       0.44313146, 0.43877551, 0.58443332, 0.578125  , 0.58443332,\n",
            "       0.578125  , 0.45120157, 0.42247659, 0.58700591, 0.58195212,\n",
            "       0.58700591, 0.58195212, 0.45081562, 0.42684845, 0.58677686,\n",
            "       0.58310121, 0.58677686, 0.58310121, 0.44377811, 0.43670886,\n",
            "       0.55611544, 0.56477167, 0.55611544, 0.56477167, 0.43333333,\n",
            "       0.43053435, 0.57988166, 0.56877323, 0.57988166, 0.56877323,\n",
            "       0.44116199, 0.44285714, 0.57391304, 0.57116192, 0.57391304,\n",
            "       0.57116192, 0.44891945, 0.41570681, 0.5785877 , 0.5755329 ,\n",
            "       0.5785877 , 0.5755329 , 0.44345238, 0.42060988, 0.57433997,\n",
            "       0.57742537, 0.57433997, 0.57742537, 0.44455544, 0.42977825]), 'split3_test_score': array([0.59394479, 0.60008799, 0.59394479, 0.60008799, 0.48507816,\n",
            "       0.52592247, 0.59582036, 0.59964727, 0.59582036, 0.59964727,\n",
            "       0.50118652, 0.53276756, 0.58616011, 0.59670965, 0.58616011,\n",
            "       0.59670965, 0.50071942, 0.48371175, 0.58359764, 0.59242762,\n",
            "       0.58359764, 0.59242762, 0.51453073, 0.49409449, 0.57220957,\n",
            "       0.59328859, 0.57220957, 0.59328859, 0.5175228 , 0.4960396 ,\n",
            "       0.5951526 , 0.59635069, 0.5951526 , 0.59635069, 0.48243115,\n",
            "       0.52636491, 0.59696157, 0.59743703, 0.59696157, 0.59743703,\n",
            "       0.49952517, 0.53126469, 0.59379217, 0.59457054, 0.59379217,\n",
            "       0.59457054, 0.49855908, 0.47774481, 0.57909091, 0.58340848,\n",
            "       0.57909091, 0.58340848, 0.51284491, 0.4906588 , 0.56445672,\n",
            "       0.57899461, 0.56445672, 0.57899461, 0.51677852, 0.49331352]), 'split4_test_score': array([0.61038961, 0.59483929, 0.61038961, 0.59483929, 0.48516746,\n",
            "       0.49003403, 0.59725299, 0.60674157, 0.59725299, 0.60674157,\n",
            "       0.50047755, 0.45431852, 0.60475352, 0.6096353 , 0.60475352,\n",
            "       0.6096353 , 0.5159752 , 0.46428571, 0.60568384, 0.60542986,\n",
            "       0.60568384, 0.60542986, 0.52761905, 0.474059  , 0.61858407,\n",
            "       0.60567823, 0.61858407, 0.60567823, 0.52817574, 0.47906027,\n",
            "       0.61036134, 0.59611036, 0.61036134, 0.59611036, 0.48661568,\n",
            "       0.48709206, 0.5997358 , 0.60126013, 0.5997358 , 0.60126013,\n",
            "       0.50023958, 0.4481203 , 0.60186418, 0.60054103, 0.60186418,\n",
            "       0.60054103, 0.5155428 , 0.45831202, 0.61728395, 0.59620596,\n",
            "       0.61728395, 0.59620596, 0.52505967, 0.46632653, 0.62774363,\n",
            "       0.60425147, 0.62774363, 0.60425147, 0.52586207, 0.47395301]), 'split5_test_score': array([0.7796875 , 0.78577013, 0.7796875 , 0.78577013, 0.55472264,\n",
            "       0.70013569, 0.79305019, 0.79116621, 0.79305019, 0.79116621,\n",
            "       0.63431247, 0.70345409, 0.77876792, 0.78588053, 0.77876792,\n",
            "       0.78588053, 0.65743073, 0.72056975, 0.79060816, 0.79163439,\n",
            "       0.79060816, 0.79163439, 0.66135124, 0.67604313, 0.79184302,\n",
            "       0.7964258 , 0.79184302, 0.7964258 , 0.65323336, 0.69673263,\n",
            "       0.77908805, 0.78764177, 0.77908805, 0.78764177, 0.54884189,\n",
            "       0.70090909, 0.79293123, 0.78757282, 0.79293123, 0.78757282,\n",
            "       0.62852263, 0.69978947, 0.76845377, 0.78060227, 0.76845377,\n",
            "       0.78060227, 0.65714286, 0.71781971, 0.76749611, 0.78649068,\n",
            "       0.76749611, 0.78649068, 0.65824916, 0.67700987, 0.7727806 ,\n",
            "       0.79080639, 0.7727806 , 0.79080639, 0.64619745, 0.69141531]), 'split6_test_score': array([0.74161736, 0.76656151, 0.74161736, 0.76656151, 0.63194444,\n",
            "       0.69361507, 0.75295975, 0.76843775, 0.75295975, 0.76843775,\n",
            "       0.63837159, 0.71631799, 0.76007828, 0.76716654, 0.76007828,\n",
            "       0.76716654, 0.66469345, 0.727197  , 0.75829384, 0.76510067,\n",
            "       0.75829384, 0.76510067, 0.66156463, 0.70502283, 0.77152969,\n",
            "       0.77576711, 0.77152969, 0.77576711, 0.67510549, 0.72351885,\n",
            "       0.73098479, 0.75210252, 0.73098479, 0.75210252, 0.62777536,\n",
            "       0.68674699, 0.74561404, 0.75511022, 0.74561404, 0.75511022,\n",
            "       0.6328125 , 0.71027254, 0.7544484 , 0.75632276, 0.7544484 ,\n",
            "       0.75632276, 0.66159052, 0.72347536, 0.74791584, 0.7510008 ,\n",
            "       0.74791584, 0.7510008 , 0.65445249, 0.69885057, 0.75515055,\n",
            "       0.76548142, 0.75515055, 0.76548142, 0.66865164, 0.71409153]), 'split7_test_score': array([0.73787167, 0.78152891, 0.73787167, 0.78152891, 0.64099273,\n",
            "       0.67660844, 0.73264984, 0.78621224, 0.73264984, 0.78621224,\n",
            "       0.65034364, 0.62371365, 0.73928431, 0.7835131 , 0.73928431,\n",
            "       0.7835131 , 0.66638442, 0.64139161, 0.75389408, 0.78505393,\n",
            "       0.75389408, 0.78505393, 0.67731092, 0.66222814, 0.75602176,\n",
            "       0.78618549, 0.75602176, 0.78618549, 0.68010076, 0.6743567 ,\n",
            "       0.73762765, 0.77869174, 0.73762765, 0.77869174, 0.63773098,\n",
            "       0.67493584, 0.75019639, 0.78037383, 0.75019639, 0.78037383,\n",
            "       0.64507772, 0.6206278 , 0.74735605, 0.77816764, 0.74735605,\n",
            "       0.77816764, 0.66213345, 0.63563115, 0.75459883, 0.78172589,\n",
            "       0.75459883, 0.78172589, 0.6722973 , 0.66222814, 0.75431711,\n",
            "       0.78641156, 0.75431711, 0.78641156, 0.67845118, 0.67345133]), 'split8_test_score': array([0.78042959, 0.78731632, 0.78042959, 0.78731632, 0.43387978,\n",
            "       0.65300546, 0.7800312 , 0.78571429, 0.7800312 , 0.78571429,\n",
            "       0.53497537, 0.66977138, 0.78712679, 0.77997672, 0.78712679,\n",
            "       0.77997672, 0.54930966, 0.69594595, 0.79055362, 0.78088578,\n",
            "       0.79055362, 0.78088578, 0.5603912 , 0.67162099, 0.79721362,\n",
            "       0.79148936, 0.79721362, 0.79148936, 0.58869019, 0.67497692,\n",
            "       0.77637795, 0.78189622, 0.77637795, 0.78189622, 0.40291807,\n",
            "       0.6505032 , 0.7734375 , 0.77570093, 0.7734375 , 0.77570093,\n",
            "       0.51408451, 0.66751484, 0.77851304, 0.77677521, 0.77851304,\n",
            "       0.77677521, 0.52816901, 0.69517358, 0.78304821, 0.7796875 ,\n",
            "       0.78304821, 0.7796875 , 0.54018972, 0.66448903, 0.78382582,\n",
            "       0.78362573, 0.78382582, 0.78362573, 0.57212954, 0.67068087]), 'split9_test_score': array([0.75502318, 0.7424    , 0.75502318, 0.7424    , 0.60051107,\n",
            "       0.64958749, 0.74970806, 0.75634921, 0.74970806, 0.75634921,\n",
            "       0.62944582, 0.65237891, 0.77329193, 0.76415094, 0.77329193,\n",
            "       0.76415094, 0.63617289, 0.66782307, 0.78571429, 0.7674873 ,\n",
            "       0.78571429, 0.7674873 , 0.63790186, 0.64522233, 0.76755918,\n",
            "       0.76387803, 0.76755918, 0.76387803, 0.63267974, 0.65604499,\n",
            "       0.74385965, 0.73972603, 0.74385965, 0.73972603, 0.59751393,\n",
            "       0.65512765, 0.74202442, 0.74789579, 0.74202442, 0.74789579,\n",
            "       0.62650602, 0.65555556, 0.75794429, 0.75438596, 0.75794429,\n",
            "       0.75438596, 0.63042562, 0.66724212, 0.77167183, 0.76014179,\n",
            "       0.77167183, 0.76014179, 0.63582343, 0.64586288, 0.75576397,\n",
            "       0.7608092 , 0.75576397, 0.7608092 , 0.63336229, 0.65317647]), 'mean_test_score': array([0.67501803, 0.68251834, 0.67501803, 0.68251834, 0.52689384,\n",
            "       0.58555115, 0.67864426, 0.6865035 , 0.67864426, 0.6865035 ,\n",
            "       0.55214709, 0.5833064 , 0.67730797, 0.68633144, 0.67730797,\n",
            "       0.68633144, 0.56477054, 0.57386083, 0.68214623, 0.68734292,\n",
            "       0.68214623, 0.68734292, 0.5712582 , 0.57058756, 0.68514296,\n",
            "       0.69047425, 0.68514296, 0.69047425, 0.57597746, 0.5804371 ,\n",
            "       0.67081689, 0.67638842, 0.67081689, 0.67638842, 0.52193398,\n",
            "       0.5852455 , 0.67816595, 0.67962955, 0.67816595, 0.67962955,\n",
            "       0.5488367 , 0.58194548, 0.67353703, 0.67981368, 0.67353703,\n",
            "       0.67981368, 0.56114351, 0.57071727, 0.67898997, 0.68145612,\n",
            "       0.67898997, 0.68145612, 0.5658706 , 0.56721973, 0.67891134,\n",
            "       0.68586041, 0.67891134, 0.68586041, 0.57267759, 0.5766954 ]), 'std_test_score': array([0.08646613, 0.09188527, 0.08646613, 0.09188527, 0.07223908,\n",
            "       0.09375461, 0.08486191, 0.09251596, 0.08486191, 0.09251596,\n",
            "       0.07342317, 0.09693174, 0.09209795, 0.09153198, 0.09209795,\n",
            "       0.09153198, 0.07827686, 0.11975493, 0.09514208, 0.09186785,\n",
            "       0.09514208, 0.09186785, 0.07686278, 0.10360173, 0.09341152,\n",
            "       0.09350307, 0.09341152, 0.09350307, 0.07711528, 0.1069471 ,\n",
            "       0.08618209, 0.09331725, 0.08618209, 0.09331725, 0.0754353 ,\n",
            "       0.09294593, 0.08438968, 0.09144306, 0.08438968, 0.09144306,\n",
            "       0.07142879, 0.09574614, 0.08862114, 0.09189772, 0.08862114,\n",
            "       0.09189772, 0.07774901, 0.12029068, 0.08700985, 0.09167761,\n",
            "       0.08700985, 0.09167761, 0.0770819 , 0.10456514, 0.08730261,\n",
            "       0.09279204, 0.08730261, 0.09279204, 0.07541223, 0.10612874]), 'rank_test_score': array([35, 13, 35, 13, 59, 41, 27,  5, 27,  5, 57, 43, 31,  7, 31,  7, 55,\n",
            "       48, 15,  3, 15,  3, 50, 52, 11,  1, 11,  1, 47, 45, 39, 33, 39, 33,\n",
            "       60, 42, 29, 21, 29, 21, 58, 44, 37, 19, 37, 19, 56, 51, 23, 17, 23,\n",
            "       17, 54, 53, 25,  9, 25,  9, 49, 46], dtype=int32)}\n"
          ]
        }
      ]
    },
    {
      "cell_type": "code",
      "metadata": {
        "colab": {
          "base_uri": "https://localhost:8080/"
        },
        "id": "qy-9yFVrx34a",
        "outputId": "a45357fa-bd4f-447c-9c39-178abc1d71d7"
      },
      "source": [
        "#vamos olhar para os melhores resultados encontrados pelo Grid Search\n",
        "print('Melhor resultado f1:', grid_cv.best_score_)\n",
        "print('\\n\\nMelhor configuração de hiperparâmetros:', grid_cv.best_params_)\n",
        "print( '\\n\\nConfigurações de todos os hiperparâmetros do melhor estimado encontrado pelo GridSearch: \\n', grid_cv.best_estimator_)"
      ],
      "execution_count": null,
      "outputs": [
        {
          "output_type": "stream",
          "name": "stdout",
          "text": [
            "Melhor resultado f1: 0.6904742544917905\n",
            "\n",
            "\n",
            "Melhor configuração de hiperparâmetros: {'criterion': 'gini', 'max_depth': 8, 'max_features': 'auto', 'n_estimators': 500}\n",
            "\n",
            "\n",
            "Configurações de todos os hiperparâmetros do melhor estimado encontrado pelo GridSearch: \n",
            " RandomForestClassifier(bootstrap=True, ccp_alpha=0.0, class_weight=None,\n",
            "                       criterion='gini', max_depth=8, max_features='auto',\n",
            "                       max_leaf_nodes=None, max_samples=None,\n",
            "                       min_impurity_decrease=0.0, min_impurity_split=None,\n",
            "                       min_samples_leaf=1, min_samples_split=2,\n",
            "                       min_weight_fraction_leaf=0.0, n_estimators=500,\n",
            "                       n_jobs=None, oob_score=False, random_state=42, verbose=0,\n",
            "                       warm_start=False)\n"
          ]
        }
      ]
    },
    {
      "cell_type": "markdown",
      "metadata": {
        "id": "7KUQiZtBe8hF"
      },
      "source": [
        "####Random Search"
      ]
    },
    {
      "cell_type": "code",
      "metadata": {
        "id": "ESmFE_8afC8V"
      },
      "source": [
        "if _RANDOM_SEARCH_TRAIN:\n",
        "  #definindo o tipo de validacao cruzada e o numero de folds\n",
        "  cv_strat = StratifiedKFold(n_splits = 10)\n",
        "\n",
        "  #definindo a estrategia de score a partir da metrica f1\n",
        "  f1 = make_scorer(f1_score)\n",
        "\n",
        "  #definindo hiperparâmetros\n",
        "  distributions = dict(kernel = ['sigmoid', 'rbf'], \n",
        "                      C = uniform(loc=0, scale=10))\n",
        "\n",
        "  #instânciando meu classificador\n",
        "  classifier = SVC()\n",
        "\n",
        "  #instanciando e modelando o random search com os hiperparametros e a validação definidas.\n",
        "  random_cv = RandomizedSearchCV(classifier, distributions, cv = cv_strat, scoring = f1, random_state = 42, n_iter = 10)\n",
        "  random_cv.fit(data, labels)"
      ],
      "execution_count": null,
      "outputs": []
    },
    {
      "cell_type": "code",
      "metadata": {
        "id": "Q1pg-8SPfnYE"
      },
      "source": [
        "if _RANDOM_SEARCH_TRAIN:\n",
        "  #vamos olhar para todos os resultados encontrados!\n",
        "  print('Resumo de todos os resultados encontrados:\\n\\n', random_cv.cv_results_)"
      ],
      "execution_count": null,
      "outputs": []
    },
    {
      "cell_type": "code",
      "metadata": {
        "id": "2z--MZotfqgY"
      },
      "source": [
        "if _RANDOM_SEARCH_TRAIN:\n",
        "  #vamos olhar para os melhores resultados encontrados pelo Random Search\n",
        "  print('Melhor resultado f1:', random_cv.best_score_)\n",
        "  print('\\n\\nMelhor configuração de hiperparâmetros:', random_cv.best_params_)\n",
        "  print( '\\n\\nConfigurações de todos os hiperparâmetros do melhor estimado encontrado pelo Random Search: \\n', random_cv.best_estimator_)"
      ],
      "execution_count": null,
      "outputs": []
    },
    {
      "cell_type": "markdown",
      "metadata": {
        "id": "yqLqxSn7NJC-"
      },
      "source": [
        "##Exportação do Modelo"
      ]
    },
    {
      "cell_type": "markdown",
      "metadata": {
        "id": "trHdlYTZb_gF"
      },
      "source": [
        "Melhor modelo encontrado - Parâmetros"
      ]
    },
    {
      "cell_type": "code",
      "metadata": {
        "id": "o0T8PcfQduBm"
      },
      "source": [
        "#Configurações de todos os hiperparâmetros do melhor estimado encontrado pelo Random Search: \n",
        "# modelo = SVC(C=3.745401188473625, break_ties=False, cache_size=200, class_weight=None,\n",
        "#     coef0=0.0, decision_function_shape='ovr', degree=3, gamma='scale',\n",
        "#     kernel='sigmoid', max_iter=-1, probability=False, random_state=None,\n",
        "#     shrinking=True, tol=0.001, verbose=False)"
      ],
      "execution_count": null,
      "outputs": []
    },
    {
      "cell_type": "code",
      "metadata": {
        "id": "LiSTIqq_Y0lG"
      },
      "source": [
        "#Configurações de todos os hiperparâmetros do melhor estimado encontrado pelo Random Search: \n",
        "modelo = RandomForestClassifier(bootstrap=True, ccp_alpha=0.0, class_weight=None,\n",
        "                       criterion='gini', max_depth=8, max_features='auto',\n",
        "                       max_leaf_nodes=None, max_samples=None,\n",
        "                       min_impurity_decrease=0.0, min_impurity_split=None,\n",
        "                       min_samples_leaf=1, min_samples_split=2,\n",
        "                       min_weight_fraction_leaf=0.0, n_estimators=500,\n",
        "                       n_jobs=None, oob_score=False, random_state=42, verbose=0,\n",
        "                       warm_start=False)"
      ],
      "execution_count": null,
      "outputs": []
    },
    {
      "cell_type": "markdown",
      "metadata": {
        "id": "iJoIK1h2JIo8"
      },
      "source": [
        "Divisão de treino e teste"
      ]
    },
    {
      "cell_type": "code",
      "metadata": {
        "id": "gnjwhMvXIMGw"
      },
      "source": [
        "X_train, X_test, y_train, y_test = train_test_split(data, labels, test_size=0.10, random_state = 42)\n",
        "modelo.fit(X_train, y_train)\n",
        "predictions = modelo.predict(X_test)"
      ],
      "execution_count": null,
      "outputs": []
    },
    {
      "cell_type": "code",
      "metadata": {
        "colab": {
          "base_uri": "https://localhost:8080/"
        },
        "id": "JPJ_80iKMigu",
        "outputId": "cf273b72-1f06-496d-fae3-b8909e8f22dd"
      },
      "source": [
        "#avaliando o modelo \n",
        "print('Matriz de Confusão\\n', metrics.confusion_matrix(y_test, predictions)) \n",
        "print('\\nAcurácia\\n', metrics.accuracy_score(y_test, predictions)) \n",
        "print('\\nAcurácia Balanceada por classe\\n', metrics.balanced_accuracy_score(y_test, predictions)) \n",
        "print('\\nPrecision\\n', metrics.precision_score(y_test, predictions)) \n",
        "print('\\nRecall\\n', metrics.recall_score(y_test, predictions)) \n",
        "print('\\nF1\\n', metrics.f1_score(y_test, predictions)) \n",
        "print('\\nAUCROC\\n', metrics.roc_auc_score(y_test, predictions))"
      ],
      "execution_count": null,
      "outputs": [
        {
          "output_type": "stream",
          "name": "stdout",
          "text": [
            "Matriz de Confusão\n",
            " [[1093  257]\n",
            " [ 469  844]]\n",
            "\n",
            "Acurácia\n",
            " 0.7273751408186256\n",
            "\n",
            "Acurácia Balanceada por classe\n",
            " 0.7262161857211362\n",
            "\n",
            "Precision\n",
            " 0.7665758401453224\n",
            "\n",
            "Recall\n",
            " 0.6428027418126429\n",
            "\n",
            "F1\n",
            " 0.6992543496271749\n",
            "\n",
            "AUCROC\n",
            " 0.7262161857211362\n"
          ]
        }
      ]
    },
    {
      "cell_type": "markdown",
      "metadata": {
        "id": "-Wxn8-raLxFO"
      },
      "source": [
        "###Pickle"
      ]
    },
    {
      "cell_type": "code",
      "metadata": {
        "id": "Ceo_gJOkPOvx"
      },
      "source": [
        "# Aplica o vetorizador nos dados de texto e retorna uma matriz esparsa ( contendo vários zeros):\n",
        "if _DEPLOY:\n",
        "    vec_file = '/content/gdrive/My Drive/Colab Notebooks/Projeto Final IGTI/model/vectorizer.pickle'\n",
        "    pkl.dump(cvt, open(vec_file, 'wb'))\n",
        "else:\n",
        "    vec_file = '/content/gdrive/My Drive/Colab Notebooks/Projeto Final IGTI/model/vectorizer.pickle'\n",
        "    pkl.dump(cvt, open(vec_file, 'wb'))\n",
        "    vec_file = '/content/gdrive/My Drive/Colab Notebooks/Projeto Final IGTI/production/model/vectorizer.pickle'\n",
        "    pkl.dump(cvt, open(vec_file, 'wb'))"
      ],
      "execution_count": null,
      "outputs": []
    },
    {
      "cell_type": "code",
      "metadata": {
        "id": "9kqeww8TWOji"
      },
      "source": [
        "#Salva o modelo\n",
        "if _DEPLOY:\n",
        "    with open('/content/gdrive/My Drive/Colab Notebooks/Projeto Final IGTI/model/modelo.pkl', 'wb') as model:\n",
        "        pkl.dump(modelo, model) \n",
        "else:\n",
        "    with open('/content/gdrive/My Drive/Colab Notebooks/Projeto Final IGTI/model/modelo.pkl', 'wb') as model:\n",
        "        pkl.dump(modelo, model) \n",
        "    with open('/content/gdrive/My Drive/Colab Notebooks/Projeto Final IGTI/production/model/modelo.pkl', 'wb') as model:\n",
        "        pkl.dump(modelo, model) "
      ],
      "execution_count": null,
      "outputs": []
    },
    {
      "cell_type": "markdown",
      "metadata": {
        "id": "JO88UwIY6MUt"
      },
      "source": [
        "###Joblib"
      ]
    },
    {
      "cell_type": "markdown",
      "source": [
        "Salvar"
      ],
      "metadata": {
        "id": "QbGGObXmfGfB"
      }
    },
    {
      "cell_type": "code",
      "metadata": {
        "id": "usdz7q106Ldh"
      },
      "source": [
        "#salvar o modelo em formato joblib\n",
        "#from joblib import dump, load\n",
        "\n",
        "#dump(modelo, '/content/gdrive/My Drive/Colab Notebooks/Projeto Final IGTI/model/modeljb.joblib') "
      ],
      "execution_count": null,
      "outputs": []
    },
    {
      "cell_type": "code",
      "metadata": {
        "id": "iN3y8OSf6lAw"
      },
      "source": [
        "#salvar os nomes das features do modelo simples\n",
        "#datajb = X_train\n",
        "\n",
        "#dump(datajb, '/content/gdrive/My Drive/Colab Notebooks/Projeto Final IGTI/model/featuresjb.names') "
      ],
      "execution_count": null,
      "outputs": []
    },
    {
      "cell_type": "markdown",
      "metadata": {
        "id": "xDWrEt2n7GSc"
      },
      "source": [
        "Carregar"
      ]
    },
    {
      "cell_type": "code",
      "metadata": {
        "id": "t-w5jK-K7KIH"
      },
      "source": [
        "#importar modelo e feature names\n",
        "#new_model = load('/content/gdrive/My Drive/Colab Notebooks/Projeto Final IGTI/model/modeljb.joblib') \n",
        "#features = load('/content/gdrive/My Drive/Colab Notebooks/Projeto Final IGTI/model/featuresjb.names') "
      ],
      "execution_count": null,
      "outputs": []
    },
    {
      "cell_type": "markdown",
      "metadata": {
        "id": "sBtmO5ke3nE0"
      },
      "source": [
        "##Predições"
      ]
    },
    {
      "cell_type": "markdown",
      "metadata": {
        "id": "jDuc_hZ9pBzi"
      },
      "source": [
        "Predição de frases positiva e negativa"
      ]
    },
    {
      "cell_type": "code",
      "metadata": {
        "id": "N5xL97_npG6a"
      },
      "source": [
        "frase_positiva = \"Feliz por ter encontrado o emprego dos meus sonhos, vou até fazer uma festa para comemorar essa conquista.\"\n",
        "frase_negativa = \"Infelizmente as coisas não saíram bem, levei prejuízo, acabei perdendo dinheiro, estou me sentido triste por isso.\""
      ],
      "execution_count": null,
      "outputs": []
    },
    {
      "cell_type": "code",
      "metadata": {
        "id": "j5-4VhO7rnyB"
      },
      "source": [
        "frase = []\n",
        "frase.append(frase_positiva)\n",
        "frase.append(\"\\n\")\n",
        "frase.append(frase_negativa)"
      ],
      "execution_count": null,
      "outputs": []
    },
    {
      "cell_type": "code",
      "metadata": {
        "id": "ULDC27Ydpgx8"
      },
      "source": [
        "frase = ''.join([i for i in frase if not i.isdigit()])\n",
        "df_frase = pd.DataFrame([x.split(';') for x in frase.split('\\n')])\n",
        "\n",
        "df_frase.columns = ['text']\n",
        "df_frase['new_text'] = df_frase['text'].str.replace('[,.:;!?]+', ' ', regex=True).copy()\n",
        "df_frase['new_text'] = df_frase['new_text'].str.replace ('[/<>()|\\+\\-\\$%&#@_\\'\\\"]+', ' ', regex=True).copy()\n",
        "df_frase['new_text'] = df_frase['new_text'].str.replace('[0-9]+', '', regex=True).copy()\n",
        "df_frase['new_text'] = df_frase['new_text'].apply(stem_sentences)\n",
        "df_frase['new_text'] = df_frase['new_text'].astype(str)\n",
        "df_frase['new_text'] = df_frase['new_text'].str.lower()\n",
        "dados_teste_frase = df_frase"
      ],
      "execution_count": null,
      "outputs": []
    },
    {
      "cell_type": "code",
      "metadata": {
        "colab": {
          "base_uri": "https://localhost:8080/"
        },
        "id": "FLheoVW0pBU1",
        "outputId": "75338531-3fb2-4204-e49f-03e25f6d7955"
      },
      "source": [
        "with open('/content/gdrive/My Drive/Colab Notebooks/Projeto Final IGTI/model/modelo.pkl', 'rb') as model:\n",
        "  modelo_carregado = pkl.load(model)\n",
        "\n",
        "testes = list(dados_teste_frase['new_text'])\n",
        "\n",
        "vec = pkl.load(open('/content/gdrive/My Drive/Colab Notebooks/Projeto Final IGTI/model/vectorizer.pickle', 'rb'))\n",
        "pred_cvt = vec.transform(testes)\n",
        "pred_tfi = tfi.transform(pred_cvt)\n",
        "\n",
        "resultado = modelo_carregado.predict(pred_tfi)"
      ],
      "execution_count": null,
      "outputs": [
        {
          "output_type": "stream",
          "name": "stderr",
          "text": [
            "/usr/local/lib/python3.7/dist-packages/sklearn/feature_extraction/text.py:385: UserWarning: Your stop_words may be inconsistent with your preprocessing. Tokenizing the stop words generated tokens ['ate', 'eramos', 'estao', 'estavamos', 'estiveramos', 'estivessemos', 'foramos', 'fossemos', 'ha', 'hao', 'houveramos', 'houverao', 'houveriamos', 'houvessemos', 'ja', 'nao', 'sao', 'sera', 'serao', 'seriamos', 'so', 'tambem', 'tera', 'terao', 'teriamos', 'tinhamos', 'tiveramos', 'tivessemos', 'voce', 'voces'] not in stop_words.\n",
            "  'stop_words.' % sorted(inconsistent))\n"
          ]
        }
      ]
    },
    {
      "cell_type": "code",
      "metadata": {
        "colab": {
          "base_uri": "https://localhost:8080/"
        },
        "id": "z5m8f2K_sraB",
        "outputId": "ace9da3f-1e11-4450-fb57-be52a2d45faf"
      },
      "source": [
        "resultado"
      ],
      "execution_count": null,
      "outputs": [
        {
          "output_type": "execute_result",
          "data": {
            "text/plain": [
              "array([1, 0])"
            ]
          },
          "metadata": {},
          "execution_count": 37
        }
      ]
    },
    {
      "cell_type": "markdown",
      "metadata": {
        "id": "dXgGc9j1frB_"
      },
      "source": [
        "Predição DataFrame df2"
      ]
    },
    {
      "cell_type": "code",
      "metadata": {
        "id": "0t55yxxhJRJQ"
      },
      "source": [
        "#filtrando sentimentos positivos e negativos do segundo dataframe para testes posteriores\n",
        "\n",
        "df2['sentiment'] =  np.where(df2['SAD'] == 1, 0, np.nan)\n",
        "df2_negative = df2[df2['SAD']== 1]['text']\n",
        "df2_negative = pd.DataFrame({'text':df2[df2['SAD']== 1]['text'], 'sentiment':df2[df2['SAD']== 1]['sentiment']})\n",
        "df2['sentiment'] =  np.where(df2['JOY'] == 1, 1, np.nan)\n",
        "df2_positive = df2[df2['JOY']== 1]['text']\n",
        "df2_positive = pd.DataFrame({'text':df2[df2['JOY']== 1]['text'], 'sentiment':df2[df2['JOY']== 1]['sentiment']})\n",
        "df2_concat = pd.concat([df2_positive, df2_negative])\n",
        "df2_concat['new_text'] = df2_concat['text'].copy()\n",
        "df2_concat.reset_index(drop=True, inplace=True)"
      ],
      "execution_count": null,
      "outputs": []
    },
    {
      "cell_type": "code",
      "metadata": {
        "id": "cqtBjc0TKq8O"
      },
      "source": [
        "df2_concat['new_text'] = df2_concat['new_text'].str.replace('[,.:;!?]+', ' ', regex=True).copy()\n",
        "df2_concat['new_text'] = df2_concat['new_text'].str.replace ('[/<>()|\\+\\-\\$%&#@_\\'\\\"]+', ' ', regex=True).copy()\n",
        "df2_concat['new_text'] = df2_concat['new_text'].str.replace('[0-9]+', '', regex=True).copy()\n",
        "df2_concat['new_text'] = df2_concat['new_text'].apply(stem_sentences)\n",
        "df2_concat['new_text'] = df2_concat['new_text'].astype(str)\n",
        "df2_concat['new_text'] = df2_concat['new_text'].str.lower()\n",
        "dados_teste = df2_concat"
      ],
      "execution_count": null,
      "outputs": []
    },
    {
      "cell_type": "code",
      "metadata": {
        "colab": {
          "base_uri": "https://localhost:8080/"
        },
        "id": "PncUmKOrO0Pc",
        "outputId": "1ad6e461-e1bc-4947-a140-1fc8fb07a05e"
      },
      "source": [
        "with open('/content/gdrive/My Drive/Colab Notebooks/Projeto Final IGTI/model/modelo.pkl', 'rb') as model:\n",
        "  modelo_carregado = pkl.load(model)\n",
        "\n",
        "testes = list(dados_teste['new_text'])\n",
        "\n",
        "vec = pkl.load(open('/content/gdrive/My Drive/Colab Notebooks/Projeto Final IGTI/model/vectorizer.pickle', 'rb'))\n",
        "pred_cvt = vec.transform(testes)\n",
        "pred_tfi = tfi.transform(pred_cvt)\n",
        "\n",
        "resultado = modelo_carregado.predict(pred_tfi)"
      ],
      "execution_count": null,
      "outputs": [
        {
          "output_type": "stream",
          "name": "stderr",
          "text": [
            "/usr/local/lib/python3.7/dist-packages/sklearn/feature_extraction/text.py:385: UserWarning: Your stop_words may be inconsistent with your preprocessing. Tokenizing the stop words generated tokens ['ate', 'eramos', 'estao', 'estavamos', 'estiveramos', 'estivessemos', 'foramos', 'fossemos', 'ha', 'hao', 'houveramos', 'houverao', 'houveriamos', 'houvessemos', 'ja', 'nao', 'sao', 'sera', 'serao', 'seriamos', 'so', 'tambem', 'tera', 'terao', 'teriamos', 'tinhamos', 'tiveramos', 'tivessemos', 'voce', 'voces'] not in stop_words.\n",
            "  'stop_words.' % sorted(inconsistent))\n"
          ]
        }
      ]
    },
    {
      "cell_type": "code",
      "metadata": {
        "id": "wwvCB_q5d2oZ"
      },
      "source": [
        "dados_teste['predito'] = resultado\n",
        "\n",
        "prev_positivo = dados_teste['predito'].value_counts()[1]\n",
        "prev_negativo = dados_teste['predito'].value_counts()[0]\n",
        "\n",
        "real_positivo = dados_teste['sentiment'].value_counts()[1]\n",
        "real_negativo = dados_teste['sentiment'].value_counts()[0]\n",
        "\n",
        "y_act = list(dados_teste['sentiment'].astype(int))\n",
        "y_pred = list(dados_teste['predito'].astype(int))"
      ],
      "execution_count": null,
      "outputs": []
    },
    {
      "cell_type": "code",
      "metadata": {
        "colab": {
          "base_uri": "https://localhost:8080/"
        },
        "id": "IgG157Oa9KQE",
        "outputId": "8930e586-c492-41bb-d719-fecb0e25ace4"
      },
      "source": [
        "real_negativo"
      ],
      "execution_count": null,
      "outputs": [
        {
          "output_type": "execute_result",
          "data": {
            "text/plain": [
              "437"
            ]
          },
          "metadata": {},
          "execution_count": 42
        }
      ]
    },
    {
      "cell_type": "code",
      "metadata": {
        "colab": {
          "base_uri": "https://localhost:8080/"
        },
        "id": "FZAbum_6-Jn5",
        "outputId": "b4cab30d-16aa-4bb4-b3e4-54e31806c517"
      },
      "source": [
        "real_positivo"
      ],
      "execution_count": null,
      "outputs": [
        {
          "output_type": "execute_result",
          "data": {
            "text/plain": [
              "531"
            ]
          },
          "metadata": {},
          "execution_count": 43
        }
      ]
    },
    {
      "cell_type": "code",
      "metadata": {
        "id": "VON0fsjfeOUn"
      },
      "source": [
        "# 1 = Positivo\n",
        "# 0 = Negativo"
      ],
      "execution_count": null,
      "outputs": []
    },
    {
      "cell_type": "code",
      "metadata": {
        "colab": {
          "base_uri": "https://localhost:8080/",
          "height": 520
        },
        "id": "rgPoWzM-eSa3",
        "outputId": "0a80c2fb-6557-4d12-ec93-0f8ba9b1e837"
      },
      "source": [
        "cm = confusion_matrix(y_act, y_pred)\n",
        "cm[0][0] = real_negativo\n",
        "cm[0][1] = prev_positivo\n",
        "cm[1][0] = prev_negativo\n",
        "cm[1][1] = real_positivo \n",
        "\n",
        "print(\"\\nmatriz de confusão\")\n",
        "print(\"            prev   prev\")\n",
        "print(\"            Negativo    Positivo\")\n",
        "print(\"real Negativo   %4d   %4d\"%(cm[0][0], cm[0][1]))\n",
        "print(\"real Positivo    %4d   %4d\"%(cm[1][0], cm[1][1]))    \n",
        "\n",
        "print(\"\\nIndicadores\")\n",
        "print(\"* Acurácia: %.2f%%\"%(100*(cm[0][0]+cm[1][1])/cm.sum()))\n",
        "print(\"* Erros de classificação: %.2f%%\"%(100*(cm[1][0]+cm[0][1])/cm.sum()))\n",
        "print(\"* Positivos verdadeiros: %.2f%%\"%(100*(cm[1][1])/(cm[1][0]+cm[1][1])))\n",
        "print(\"* Falsos positivos: %.2f%%\"%(100*(cm[0][1])/(cm[0][0]+cm[0][1])))\n",
        "print(\"* Especificidade: %.2f%%\"%(100*(cm[0][0])/(cm[0][0]+cm[0][1])))\n",
        "print(\"* Precisão: %.2f%%\"%(100*(cm[1][1])/(cm[0][1]+cm[1][1])))\n",
        "print(\"* Prevalência: %.2f%%\"%(100*(cm[1][0]+cm[1][1])/(cm.sum())))  \n",
        "\n",
        "\n",
        "f = sns.heatmap(cm, annot=True, fmt='d')"
      ],
      "execution_count": null,
      "outputs": [
        {
          "output_type": "stream",
          "name": "stdout",
          "text": [
            "\n",
            "matriz de confusão\n",
            "            prev   prev\n",
            "            Negativo    Positivo\n",
            "real Negativo    437    490\n",
            "real Positivo     478    531\n",
            "\n",
            "Indicadores\n",
            "* Acurácia: 50.00%\n",
            "* Erros de classificação: 50.00%\n",
            "* Positivos verdadeiros: 52.63%\n",
            "* Falsos positivos: 52.86%\n",
            "* Especificidade: 47.14%\n",
            "* Precisão: 52.01%\n",
            "* Prevalência: 52.12%\n"
          ]
        },
        {
          "output_type": "display_data",
          "data": {
            "image/png": "[encoded data removed]",
            "text/plain": [
              "<Figure size 432x288 with 2 Axes>"
            ]
          },
          "metadata": {
            "needs_background": "light"
          }
        }
      ]
    },
    {
      "cell_type": "code",
      "metadata": {
        "id": "6j7UYc0gPH5f"
      },
      "source": [
        "# cm = confusion_matrix(y_act, y_pred)\n",
        "# cm[0][0] = prev_negativo\n",
        "# cm[0][1] = prev_positivo\n",
        "# cm[1][0] = real_positivo\n",
        "# cm[1][1] = real_negativo\n",
        "\n",
        "# f = sns.heatmap(cm, annot=True, fmt='d')"
      ],
      "execution_count": null,
      "outputs": []
    },
    {
      "cell_type": "code",
      "metadata": {
        "colab": {
          "base_uri": "https://localhost:8080/",
          "height": 297
        },
        "id": "vL7Olu5qRxhe",
        "outputId": "df410f03-69e1-42a9-dd63-d6454d399743"
      },
      "source": [
        "negativo = dados_teste['predito'].map({1:'Positivo',0:'Negativo'}).value_counts()[0]\n",
        "positivo = dados_teste['predito'].map({1:'Positivo',0:'Negativo'}).value_counts()[1]\n",
        "\n",
        "# Gráfico Pizza Melhorado\n",
        "labels = ['Negativo', 'Positivo']\n",
        "sizes = [negativo,positivo]\n",
        "\n",
        "explode = (0, 0.2)  \n",
        "fig1, ax1 = plt.subplots()\n",
        "ax1.pie(sizes, explode=explode, labels=labels, autopct='%1.1f%%',\n",
        "        shadow=True, startangle=90)\n",
        "ax1.axis('equal')  \n",
        "plt.tight_layout()\n",
        "plt.show()"
      ],
      "execution_count": null,
      "outputs": [
        {
          "output_type": "display_data",
          "data": {
            "image/png": "[encoded data removed]",
            "text/plain": [
              "<Figure size 432x288 with 1 Axes>"
            ]
          },
          "metadata": {}
        }
      ]
    },
    {
      "cell_type": "markdown",
      "metadata": {
        "id": "Y2zkvZj6kNh8"
      },
      "source": [
        "Predição Dataframe df3"
      ]
    },
    {
      "cell_type": "code",
      "metadata": {
        "colab": {
          "base_uri": "https://localhost:8080/",
          "height": 204
        },
        "id": "nEjN06TXkLvc",
        "outputId": "84fcb077-61ea-487d-fd50-bc2ce99f6364"
      },
      "source": [
        "df3.head()"
      ],
      "execution_count": null,
      "outputs": [
        {
          "output_type": "execute_result",
          "data": {
            "text/html": [
              "<div>\n",
              "<style scoped>\n",
              "    .dataframe tbody tr th:only-of-type {\n",
              "        vertical-align: middle;\n",
              "    }\n",
              "\n",
              "    .dataframe tbody tr th {\n",
              "        vertical-align: top;\n",
              "    }\n",
              "\n",
              "    .dataframe thead th {\n",
              "        text-align: right;\n",
              "    }\n",
              "</style>\n",
              "<table border=\"1\" class=\"dataframe\">\n",
              "  <thead>\n",
              "    <tr style=\"text-align: right;\">\n",
              "      <th></th>\n",
              "      <th>id</th>\n",
              "      <th>text</th>\n",
              "      <th>created_at</th>\n",
              "    </tr>\n",
              "  </thead>\n",
              "  <tbody>\n",
              "    <tr>\n",
              "      <th>0</th>\n",
              "      <td>1437117868974432256</td>\n",
              "      <td>RT @EricAmaral10: Dória é inescrupuloso, ele p...</td>\n",
              "      <td>Sun Sep 12 18:16:14 +0000 2021</td>\n",
              "    </tr>\n",
              "    <tr>\n",
              "      <th>1</th>\n",
              "      <td>1437117869393915904</td>\n",
              "      <td>RT @CNNBrasil: Capitais têm protestos contra o...</td>\n",
              "      <td>Sun Sep 12 18:16:15 +0000 2021</td>\n",
              "    </tr>\n",
              "    <tr>\n",
              "      <th>2</th>\n",
              "      <td>1437117869632991233</td>\n",
              "      <td>RT @revistaoeste: 12/09: A manifestação contra...</td>\n",
              "      <td>Sun Sep 12 18:16:15 +0000 2021</td>\n",
              "    </tr>\n",
              "    <tr>\n",
              "      <th>3</th>\n",
              "      <td>1437117870253748224</td>\n",
              "      <td>RT @Brisa43259555: Pra que tá chegando só agora</td>\n",
              "      <td>Sun Sep 12 18:16:15 +0000 2021</td>\n",
              "    </tr>\n",
              "    <tr>\n",
              "      <th>4</th>\n",
              "      <td>1437117870429904901</td>\n",
              "      <td>RT @LaurinhaIronic: URGENTE: Infelizmente o MB...</td>\n",
              "      <td>Sun Sep 12 18:16:15 +0000 2021</td>\n",
              "    </tr>\n",
              "  </tbody>\n",
              "</table>\n",
              "</div>"
            ],
            "text/plain": [
              "                    id  ...                      created_at\n",
              "0  1437117868974432256  ...  Sun Sep 12 18:16:14 +0000 2021\n",
              "1  1437117869393915904  ...  Sun Sep 12 18:16:15 +0000 2021\n",
              "2  1437117869632991233  ...  Sun Sep 12 18:16:15 +0000 2021\n",
              "3  1437117870253748224  ...  Sun Sep 12 18:16:15 +0000 2021\n",
              "4  1437117870429904901  ...  Sun Sep 12 18:16:15 +0000 2021\n",
              "\n",
              "[5 rows x 3 columns]"
            ]
          },
          "metadata": {},
          "execution_count": 48
        }
      ]
    },
    {
      "cell_type": "code",
      "metadata": {
        "id": "DvzrKjmfknUJ"
      },
      "source": [
        "df3['new_text'] = df3['text'].str.replace('[,.:;!?]+', ' ', regex=True).copy()\n",
        "df3['new_text'] = df3['new_text'].str.replace ('[/<>()|\\+\\-\\$%&#@_\\'\\\"]+', ' ', regex=True).copy()\n",
        "df3['new_text'] = df3['new_text'].str.replace('[0-9]+', '', regex=True).copy()\n",
        "df3['new_text'] = df3['new_text'].apply(stem_sentences)\n",
        "df3['new_text'] = df3['new_text'].astype(str)\n",
        "df3['new_text'] = df3['new_text'].str.lower()\n",
        "dados_teste_2 = df3"
      ],
      "execution_count": null,
      "outputs": []
    },
    {
      "cell_type": "code",
      "metadata": {
        "colab": {
          "base_uri": "https://localhost:8080/"
        },
        "id": "R84kLHqzlQjT",
        "outputId": "d609498c-08cb-44c2-c017-136bd1fa5c9e"
      },
      "source": [
        "with open('/content/gdrive/My Drive/Colab Notebooks/Projeto Final IGTI/model/modelo.pkl', 'rb') as model:\n",
        "  modelo_carregado = pkl.load(model)\n",
        "\n",
        "\n",
        "\n",
        "testes = list(dados_teste_2['new_text'])\n",
        "\n",
        "vec = pkl.load(open('/content/gdrive/My Drive/Colab Notebooks/Projeto Final IGTI/model/vectorizer.pickle', 'rb'))\n",
        "pred_cvt = vec.transform(testes)\n",
        "pred_tfi = tfi.transform(pred_cvt)\n",
        "\n",
        "resultado = modelo_carregado.predict(pred_tfi)\n",
        "dados_teste_2['predito'] = resultado"
      ],
      "execution_count": null,
      "outputs": [
        {
          "output_type": "stream",
          "name": "stderr",
          "text": [
            "/usr/local/lib/python3.7/dist-packages/sklearn/feature_extraction/text.py:385: UserWarning: Your stop_words may be inconsistent with your preprocessing. Tokenizing the stop words generated tokens ['ate', 'eramos', 'estao', 'estavamos', 'estiveramos', 'estivessemos', 'foramos', 'fossemos', 'ha', 'hao', 'houveramos', 'houverao', 'houveriamos', 'houvessemos', 'ja', 'nao', 'sao', 'sera', 'serao', 'seriamos', 'so', 'tambem', 'tera', 'terao', 'teriamos', 'tinhamos', 'tiveramos', 'tivessemos', 'voce', 'voces'] not in stop_words.\n",
            "  'stop_words.' % sorted(inconsistent))\n"
          ]
        }
      ]
    },
    {
      "cell_type": "code",
      "metadata": {
        "colab": {
          "base_uri": "https://localhost:8080/"
        },
        "id": "K41rJweX523i",
        "outputId": "d2efe915-8998-43d3-8c47-696443b4ea3f"
      },
      "source": [
        "negativo = dados_teste_2['predito'].map({1:'Positivo',0:'Negativo'}).value_counts()[0]\n",
        "positivo = dados_teste_2['predito'].map({1:'Positivo',0:'Negativo'}).value_counts()[1]\n",
        "print(negativo)"
      ],
      "execution_count": null,
      "outputs": [
        {
          "output_type": "stream",
          "name": "stdout",
          "text": [
            "2045\n"
          ]
        }
      ]
    },
    {
      "cell_type": "code",
      "metadata": {
        "colab": {
          "base_uri": "https://localhost:8080/",
          "height": 297
        },
        "id": "AZYzmCgtoFmV",
        "outputId": "16c5c997-3f7b-4d76-f1ae-3d66eaefa1db"
      },
      "source": [
        "negativo = dados_teste_2['predito'].map({1:'Positivo',0:'Negativo'}).value_counts()[0]\n",
        "positivo = dados_teste_2['predito'].map({1:'Positivo',0:'Negativo'}).value_counts()[1]\n",
        "\n",
        "# Gráfico Pizza Melhorado\n",
        "labels = ['Negativo', 'Positivo']\n",
        "sizes = [negativo,positivo]\n",
        "\n",
        "explode = (0, 0.1)  \n",
        "fig1, ax1 = plt.subplots()\n",
        "ax1.pie(sizes, explode=explode, labels=labels, autopct='%1.1f%%',\n",
        "        shadow=True, startangle=90)\n",
        "ax1.axis('equal')  \n",
        "plt.tight_layout()\n",
        "plt.show()"
      ],
      "execution_count": null,
      "outputs": [
        {
          "output_type": "display_data",
          "data": {
            "image/png": "[encoded data removed]",
            "text/plain": [
              "<Figure size 432x288 with 1 Axes>"
            ]
          },
          "metadata": {}
        }
      ]
    }
  ]
}